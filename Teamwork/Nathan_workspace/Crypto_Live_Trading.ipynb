{
 "cells": [
  {
   "cell_type": "code",
   "execution_count": 1,
   "id": "2e632c96-f7e6-48bf-8860-17ac902c5059",
   "metadata": {},
   "outputs": [],
   "source": [
    "import sqlalchemy\n",
    "import os \n",
    "import pandas as pd\n",
    "from binance.client import Client\n",
    "from binance import BinanceSocketManager"
   ]
  },
  {
   "cell_type": "code",
   "execution_count": 2,
   "id": "3d46bf26-54fa-4c34-bc3c-b0c25d26aba0",
   "metadata": {},
   "outputs": [],
   "source": [
    "api_key = os.environ.get(\"api_key\")\n",
    "api_secret = os.environ.get(\"api_secret\")"
   ]
  },
  {
   "cell_type": "code",
   "execution_count": 3,
   "id": "0a25312a-2c73-4b47-9f91-c9cfc0320538",
   "metadata": {},
   "outputs": [],
   "source": [
    "client = Client(api_key, api_secret)"
   ]
  },
  {
   "cell_type": "code",
   "execution_count": 4,
   "id": "d53483d3-5c9d-4b2a-9f48-e4cd0994601c",
   "metadata": {},
   "outputs": [],
   "source": [
    "engine = sqlalchemy.create_engine('sqlite:///BTCUSDTstream.db')"
   ]
  },
  {
   "cell_type": "code",
   "execution_count": 5,
   "id": "29d8f24d-a90d-497c-89e8-a7b58d235f62",
   "metadata": {},
   "outputs": [],
   "source": [
    "df = pd.read_sql('BTCUSDT', engine)"
   ]
  },
  {
   "cell_type": "code",
   "execution_count": 6,
   "id": "73ee0ca5-14f8-4b80-bdb9-57ae6b939482",
   "metadata": {},
   "outputs": [
    {
     "data": {
      "text/html": [
       "<div>\n",
       "<style scoped>\n",
       "    .dataframe tbody tr th:only-of-type {\n",
       "        vertical-align: middle;\n",
       "    }\n",
       "\n",
       "    .dataframe tbody tr th {\n",
       "        vertical-align: top;\n",
       "    }\n",
       "\n",
       "    .dataframe thead th {\n",
       "        text-align: right;\n",
       "    }\n",
       "</style>\n",
       "<table border=\"1\" class=\"dataframe\">\n",
       "  <thead>\n",
       "    <tr style=\"text-align: right;\">\n",
       "      <th></th>\n",
       "      <th>symbol</th>\n",
       "      <th>Time</th>\n",
       "      <th>Price</th>\n",
       "    </tr>\n",
       "  </thead>\n",
       "  <tbody>\n",
       "    <tr>\n",
       "      <th>0</th>\n",
       "      <td>BTCUSDT</td>\n",
       "      <td>2021-10-03 20:10:07.086</td>\n",
       "      <td>48787.42</td>\n",
       "    </tr>\n",
       "    <tr>\n",
       "      <th>1</th>\n",
       "      <td>BTCUSDT</td>\n",
       "      <td>2021-10-03 20:10:07.334</td>\n",
       "      <td>48787.42</td>\n",
       "    </tr>\n",
       "    <tr>\n",
       "      <th>2</th>\n",
       "      <td>BTCUSDT</td>\n",
       "      <td>2021-10-03 20:10:07.384</td>\n",
       "      <td>48787.42</td>\n",
       "    </tr>\n",
       "    <tr>\n",
       "      <th>3</th>\n",
       "      <td>BTCUSDT</td>\n",
       "      <td>2021-10-03 20:10:08.019</td>\n",
       "      <td>48787.42</td>\n",
       "    </tr>\n",
       "    <tr>\n",
       "      <th>4</th>\n",
       "      <td>BTCUSDT</td>\n",
       "      <td>2021-10-03 20:10:08.084</td>\n",
       "      <td>48787.43</td>\n",
       "    </tr>\n",
       "    <tr>\n",
       "      <th>...</th>\n",
       "      <td>...</td>\n",
       "      <td>...</td>\n",
       "      <td>...</td>\n",
       "    </tr>\n",
       "    <tr>\n",
       "      <th>432</th>\n",
       "      <td>BTCUSDT</td>\n",
       "      <td>2021-10-03 21:59:52.788</td>\n",
       "      <td>47761.91</td>\n",
       "    </tr>\n",
       "    <tr>\n",
       "      <th>433</th>\n",
       "      <td>BTCUSDT</td>\n",
       "      <td>2021-10-03 21:59:52.833</td>\n",
       "      <td>47761.91</td>\n",
       "    </tr>\n",
       "    <tr>\n",
       "      <th>434</th>\n",
       "      <td>BTCUSDT</td>\n",
       "      <td>2021-10-03 21:59:52.888</td>\n",
       "      <td>47761.91</td>\n",
       "    </tr>\n",
       "    <tr>\n",
       "      <th>435</th>\n",
       "      <td>BTCUSDT</td>\n",
       "      <td>2021-10-03 21:59:52.934</td>\n",
       "      <td>47761.91</td>\n",
       "    </tr>\n",
       "    <tr>\n",
       "      <th>436</th>\n",
       "      <td>BTCUSDT</td>\n",
       "      <td>2021-10-03 21:59:52.985</td>\n",
       "      <td>47761.91</td>\n",
       "    </tr>\n",
       "  </tbody>\n",
       "</table>\n",
       "<p>437 rows × 3 columns</p>\n",
       "</div>"
      ],
      "text/plain": [
       "      symbol                    Time     Price\n",
       "0    BTCUSDT 2021-10-03 20:10:07.086  48787.42\n",
       "1    BTCUSDT 2021-10-03 20:10:07.334  48787.42\n",
       "2    BTCUSDT 2021-10-03 20:10:07.384  48787.42\n",
       "3    BTCUSDT 2021-10-03 20:10:08.019  48787.42\n",
       "4    BTCUSDT 2021-10-03 20:10:08.084  48787.43\n",
       "..       ...                     ...       ...\n",
       "432  BTCUSDT 2021-10-03 21:59:52.788  47761.91\n",
       "433  BTCUSDT 2021-10-03 21:59:52.833  47761.91\n",
       "434  BTCUSDT 2021-10-03 21:59:52.888  47761.91\n",
       "435  BTCUSDT 2021-10-03 21:59:52.934  47761.91\n",
       "436  BTCUSDT 2021-10-03 21:59:52.985  47761.91\n",
       "\n",
       "[437 rows x 3 columns]"
      ]
     },
     "execution_count": 6,
     "metadata": {},
     "output_type": "execute_result"
    }
   ],
   "source": [
    "df"
   ]
  },
  {
   "cell_type": "code",
   "execution_count": 7,
   "id": "a6a66d7a-310e-4786-992f-a408f693407e",
   "metadata": {},
   "outputs": [
    {
     "data": {
      "text/plain": [
       "<AxesSubplot:>"
      ]
     },
     "execution_count": 7,
     "metadata": {},
     "output_type": "execute_result"
    },
    {
     "data": {
      "image/png": "[encoded data removed]",
      "text/plain": [
       "<Figure size 432x288 with 1 Axes>"
      ]
     },
     "metadata": {
      "needs_background": "light"
     },
     "output_type": "display_data"
    }
   ],
   "source": [
    "df.Price.plot()"
   ]
  },
  {
   "cell_type": "code",
   "execution_count": 8,
   "id": "6397c6fb-c82f-49b9-8fa0-2b2db6b7ab2f",
   "metadata": {},
   "outputs": [],
   "source": [
    "# Trendfollowing Strategy\n",
    "# if the crypto was rising by x % -> Buy\n",
    "# exit when profit is above 0.15% or loss is crossing -0.15%"
   ]
  },
  {
   "cell_type": "code",
   "execution_count": 9,
   "id": "34c5525a-285e-41a8-96aa-b3a3b9773f10",
   "metadata": {},
   "outputs": [],
   "source": [
    "# # Entry is asset, lookback period is how much time we want to go back, qty, boolean for open position\n",
    "# def strategy(entry, lookback, qty, open_position=False):\n",
    "#     while True:\n",
    "#         df = pd.read_sql('BTCUSDT', engine)\n",
    "#         lookbackperiod = df.iloc[-lookback:]\n",
    "#         cumret = (lookbackperiod.Price.pct_change() +1).cumprod() - 1\n",
    "#         if not open_position:\n",
    "#             if cumret[cumret.last_valid_index()] > entry:\n",
    "#                 order = client.create_order(symbol='BTCUSDT',\n",
    "#                                            side='BUY',\n",
    "#                                            type='MARKET',\n",
    "#                                            quantity=qty)\n",
    "#                 print(order)\n",
    "#                 open_position = True\n",
    "#                 break\n",
    "#     if open_position:\n",
    "#         while True:\n",
    "#             df = pd.read_sql('BTCUSDT', engine)\n",
    "#             sincebuy = df.loc[df.Time > \n",
    "#                               pd.to_datetime(order['transactTime'], unit='ms')]\n",
    "#             if len(sincebuy) > 1:\n",
    "#                 sincebuyret = (sincebuy.Price.pct_change() +1).cumprod() - 1 \n",
    "#                 last_entry = sincebuyret[sincebuyret.last_valid_index()]\n",
    "#                 if last_entry > 0.0015 or last_entry < -0.0015:\n",
    "#                     order = client.create_order(symbol='BTCUSDT',\n",
    "#                                            side='BUY',\n",
    "#                                            type='MARKET',\n",
    "#                                            quantity=qty)\n",
    "#                     print(order)\n",
    "#                     break\n",
    "#"
   ]
  },
  {
   "cell_type": "code",
   "execution_count": null,
   "id": "c9abec96-ac35-4f86-9954-4c0ae232b198",
   "metadata": {},
   "outputs": [],
   "source": []
  }
 ],
 "metadata": {
  "kernelspec": {
   "display_name": "Python 3.7.10 64-bit ('dev': conda)",
   "language": "python",
   "name": "python3710jvsc74a57bd0e8921efeb3ecacfb7b11f420178d83f46d0ce73a066aba2d3365a3a8667101bc"
  },
  "language_info": {
   "codemirror_mode": {
    "name": "ipython",
    "version": 3
   },
   "file_extension": ".py",
   "mimetype": "text/x-python",
   "name": "python",
   "nbconvert_exporter": "python",
   "pygments_lexer": "ipython3",
   "version": "3.7.7"
  }
 },
 "nbformat": 4,
 "nbformat_minor": 5
}
