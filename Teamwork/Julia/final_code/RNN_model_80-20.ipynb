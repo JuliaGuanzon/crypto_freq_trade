{
 "cells": [
  {
   "cell_type": "code",
   "execution_count": 1,
   "id": "ccd43a8b-c084-4e6a-87af-256569ba4410",
   "metadata": {},
   "outputs": [
    {
     "data": {
      "text/plain": [
       "'\\nData (Daily & Minute): Binance API-Will need Binance API keys to be able to pull the data. \\nBinance API Documentation: https://binance-docs.github.io/apidocs/spot/en/#introduction\\n\\n'"
      ]
     },
     "execution_count": 1,
     "metadata": {},
     "output_type": "execute_result"
    }
   ],
   "source": [
    "\"\"\"\n",
    "Data (Daily & Minute): Binance API-Will need Binance API keys to be able to pull the data. \n",
    "Binance API Documentation: https://binance-docs.github.io/apidocs/spot/en/#introduction\n",
    "\n",
    "\"\"\""
   ]
  },
  {
   "cell_type": "code",
   "execution_count": 2,
   "id": "583c8236-548a-4532-9488-6d0c095e702f",
   "metadata": {},
   "outputs": [],
   "source": [
    "# J.Guanzon Comment-Imports needed to run this file\n",
    "from binance import Client, ThreadedWebsocketManager, ThreadedDepthCacheManager\n",
    "import pandas as pd\n",
    "import mplfinance as mpl\n",
    "import mplfinance as mpf\n",
    "import os\n",
    "import json\n",
    "import requests\n",
    "from keras.models import Sequential\n",
    "from keras.layers import Activation, Dense, Dropout, LSTM\n",
    "import matplotlib.pyplot as plt\n",
    "import matplotlib.dates as mdates\n",
    "import numpy as np\n",
    "from pathlib import Path\n",
    "import seaborn as sns\n",
    "from sklearn.metrics import mean_absolute_error\n",
    "%matplotlib inline"
   ]
  },
  {
   "cell_type": "code",
   "execution_count": 3,
   "id": "820e7f0d-1f73-4b5e-b922-abc088443269",
   "metadata": {},
   "outputs": [],
   "source": [
    "# Pull API keys from .env file\n",
    "api_key = os.environ.get(\"api_key\")\n",
    "api_secret = os.environ.get(\"api_secret\")"
   ]
  },
  {
   "cell_type": "code",
   "execution_count": 4,
   "id": "19d7da9c-d242-42d5-8ddd-6807e2ea2284",
   "metadata": {},
   "outputs": [],
   "source": [
    "client = Client(api_key, api_secret)"
   ]
  },
  {
   "cell_type": "code",
   "execution_count": 5,
   "id": "b3676348-7587-441e-b623-45a1532e7059",
   "metadata": {},
   "outputs": [],
   "source": [
    "# J.Guanzon Comment: Gather tickers for all\n",
    "tickers = client.get_all_tickers()"
   ]
  },
  {
   "cell_type": "code",
   "execution_count": 6,
   "id": "d60fe2dc-345a-44f6-b0e4-a7f363314e27",
   "metadata": {},
   "outputs": [],
   "source": [
    "ticker_df = pd.DataFrame(tickers)"
   ]
  },
  {
   "cell_type": "code",
   "execution_count": 7,
   "id": "9189d045-c73a-456c-b8f9-2aa7767c812c",
   "metadata": {},
   "outputs": [
    {
     "data": {
      "text/html": [
       "<div>\n",
       "<style scoped>\n",
       "    .dataframe tbody tr th:only-of-type {\n",
       "        vertical-align: middle;\n",
       "    }\n",
       "\n",
       "    .dataframe tbody tr th {\n",
       "        vertical-align: top;\n",
       "    }\n",
       "\n",
       "    .dataframe thead th {\n",
       "        text-align: right;\n",
       "    }\n",
       "</style>\n",
       "<table border=\"1\" class=\"dataframe\">\n",
       "  <thead>\n",
       "    <tr style=\"text-align: right;\">\n",
       "      <th></th>\n",
       "      <th>price</th>\n",
       "    </tr>\n",
       "    <tr>\n",
       "      <th>symbol</th>\n",
       "      <th></th>\n",
       "    </tr>\n",
       "  </thead>\n",
       "  <tbody>\n",
       "    <tr>\n",
       "      <th>ETHBTC</th>\n",
       "      <td>0.06450800</td>\n",
       "    </tr>\n",
       "    <tr>\n",
       "      <th>LTCBTC</th>\n",
       "      <td>0.00310100</td>\n",
       "    </tr>\n",
       "    <tr>\n",
       "      <th>BNBBTC</th>\n",
       "      <td>0.00785900</td>\n",
       "    </tr>\n",
       "    <tr>\n",
       "      <th>NEOBTC</th>\n",
       "      <td>0.00076300</td>\n",
       "    </tr>\n",
       "    <tr>\n",
       "      <th>QTUMETH</th>\n",
       "      <td>0.00345100</td>\n",
       "    </tr>\n",
       "    <tr>\n",
       "      <th>...</th>\n",
       "      <td>...</td>\n",
       "    </tr>\n",
       "    <tr>\n",
       "      <th>SHIBAUD</th>\n",
       "      <td>0.00003579</td>\n",
       "    </tr>\n",
       "    <tr>\n",
       "      <th>RAREBTC</th>\n",
       "      <td>0.00003497</td>\n",
       "    </tr>\n",
       "    <tr>\n",
       "      <th>RAREBNB</th>\n",
       "      <td>0.00445300</td>\n",
       "    </tr>\n",
       "    <tr>\n",
       "      <th>RAREBUSD</th>\n",
       "      <td>2.08100000</td>\n",
       "    </tr>\n",
       "    <tr>\n",
       "      <th>RAREUSDT</th>\n",
       "      <td>2.08300000</td>\n",
       "    </tr>\n",
       "  </tbody>\n",
       "</table>\n",
       "<p>1695 rows × 1 columns</p>\n",
       "</div>"
      ],
      "text/plain": [
       "               price\n",
       "symbol              \n",
       "ETHBTC    0.06450800\n",
       "LTCBTC    0.00310100\n",
       "BNBBTC    0.00785900\n",
       "NEOBTC    0.00076300\n",
       "QTUMETH   0.00345100\n",
       "...              ...\n",
       "SHIBAUD   0.00003579\n",
       "RAREBTC   0.00003497\n",
       "RAREBNB   0.00445300\n",
       "RAREBUSD  2.08100000\n",
       "RAREUSDT  2.08300000\n",
       "\n",
       "[1695 rows x 1 columns]"
      ]
     },
     "execution_count": 7,
     "metadata": {},
     "output_type": "execute_result"
    }
   ],
   "source": [
    "ticker_df.set_index('symbol', inplace=True)\n",
    "ticker_df"
   ]
  },
  {
   "cell_type": "code",
   "execution_count": 8,
   "id": "f27508af-cf1e-4ae2-a73b-5b7d76141a0a",
   "metadata": {},
   "outputs": [
    {
     "data": {
      "text/plain": [
       "' \\nAbility to save csv file of all tickers.\\nAllows the user to see what types of cryptocurrencies are out there.\\nFor now, we will only focus on Bitcoin.\\n'"
      ]
     },
     "execution_count": 8,
     "metadata": {},
     "output_type": "execute_result"
    }
   ],
   "source": [
    "\"\"\" \n",
    "Ability to save csv file of all tickers.\n",
    "Allows the user to see what types of cryptocurrencies are out there.\n",
    "For now, we will only focus on Bitcoin.\n",
    "\"\"\""
   ]
  },
  {
   "cell_type": "code",
   "execution_count": 9,
   "id": "9c699d43-e69c-4791-8265-31e030e5ed1a",
   "metadata": {},
   "outputs": [],
   "source": [
    "ticker_df.to_csv(\"Resources/binance_tickers.csv\")"
   ]
  },
  {
   "cell_type": "code",
   "execution_count": 10,
   "id": "8996fb20-9527-4c6b-b985-2a31b2b93404",
   "metadata": {},
   "outputs": [
    {
     "data": {
      "text/plain": [
       "59500.27"
      ]
     },
     "metadata": {},
     "output_type": "display_data"
    }
   ],
   "source": [
    "display(float(ticker_df.loc['BTCUSDT']['price']))"
   ]
  },
  {
   "cell_type": "code",
   "execution_count": 11,
   "id": "126f6226-a441-487d-a42a-7dd8039bcaae",
   "metadata": {},
   "outputs": [],
   "source": [
    "depth = client.get_order_book(symbol='BTCUSDT')"
   ]
  },
  {
   "cell_type": "code",
   "execution_count": 12,
   "id": "26ea514f-5ad0-43df-8af3-677cb160c590",
   "metadata": {},
   "outputs": [
    {
     "data": {
      "text/html": [
       "<div>\n",
       "<style scoped>\n",
       "    .dataframe tbody tr th:only-of-type {\n",
       "        vertical-align: middle;\n",
       "    }\n",
       "\n",
       "    .dataframe tbody tr th {\n",
       "        vertical-align: top;\n",
       "    }\n",
       "\n",
       "    .dataframe thead th {\n",
       "        text-align: right;\n",
       "    }\n",
       "</style>\n",
       "<table border=\"1\" class=\"dataframe\">\n",
       "  <thead>\n",
       "    <tr style=\"text-align: right;\">\n",
       "      <th></th>\n",
       "      <th>Price</th>\n",
       "      <th>Volume</th>\n",
       "    </tr>\n",
       "  </thead>\n",
       "  <tbody>\n",
       "    <tr>\n",
       "      <th>0</th>\n",
       "      <td>59500.27000000</td>\n",
       "      <td>0.22141000</td>\n",
       "    </tr>\n",
       "    <tr>\n",
       "      <th>1</th>\n",
       "      <td>59500.37000000</td>\n",
       "      <td>0.78100000</td>\n",
       "    </tr>\n",
       "    <tr>\n",
       "      <th>2</th>\n",
       "      <td>59501.59000000</td>\n",
       "      <td>0.17263000</td>\n",
       "    </tr>\n",
       "    <tr>\n",
       "      <th>3</th>\n",
       "      <td>59503.91000000</td>\n",
       "      <td>0.13253000</td>\n",
       "    </tr>\n",
       "    <tr>\n",
       "      <th>4</th>\n",
       "      <td>59503.92000000</td>\n",
       "      <td>0.30420000</td>\n",
       "    </tr>\n",
       "  </tbody>\n",
       "</table>\n",
       "</div>"
      ],
      "text/plain": [
       "            Price      Volume\n",
       "0  59500.27000000  0.22141000\n",
       "1  59500.37000000  0.78100000\n",
       "2  59501.59000000  0.17263000\n",
       "3  59503.91000000  0.13253000\n",
       "4  59503.92000000  0.30420000"
      ]
     },
     "execution_count": 12,
     "metadata": {},
     "output_type": "execute_result"
    }
   ],
   "source": [
    "depth_df = pd.DataFrame(depth['asks'])\n",
    "depth_df.columns = ['Price', 'Volume']\n",
    "depth_df.head()"
   ]
  },
  {
   "cell_type": "code",
   "execution_count": 13,
   "id": "2c715dd7-d11f-48e7-aa66-41328a736580",
   "metadata": {},
   "outputs": [
    {
     "data": {
      "text/plain": [
       "'\\nPulling historical daily data\\n'"
      ]
     },
     "execution_count": 13,
     "metadata": {},
     "output_type": "execute_result"
    }
   ],
   "source": [
    "\"\"\"\n",
    "Pulling historical daily data\n",
    "\"\"\""
   ]
  },
  {
   "cell_type": "code",
   "execution_count": 14,
   "id": "33c08953-a630-44df-9379-b4366aa1cd84",
   "metadata": {},
   "outputs": [],
   "source": [
    "btc_daily_data = client.get_historical_klines('BTCUSDT', Client.KLINE_INTERVAL_1DAY, '1 Jan 2021')"
   ]
  },
  {
   "cell_type": "code",
   "execution_count": 15,
   "id": "582bdf99-4a30-4a1e-988b-f4a53e6937b3",
   "metadata": {},
   "outputs": [],
   "source": [
    "btc_daily_df = pd.DataFrame(btc_daily_data)\n",
    "btc_daily_df.columns = ['Open Time', 'Open', 'High', 'Low', 'Close', 'Volume', 'Close Time', 'Quote Asset Volume', \n",
    "                    'Number of Trades', 'TB Base Volume', 'TB Quote Volume', 'Ignore']"
   ]
  },
  {
   "cell_type": "code",
   "execution_count": 16,
   "id": "0fbbbc86-f30f-4019-a959-7523f5632c45",
   "metadata": {},
   "outputs": [],
   "source": [
    "btc_daily_df['Open Time'] = pd.to_datetime(btc_daily_df['Open Time']/1000, unit='s')\n",
    "btc_daily_df['Close Time'] = pd.to_datetime(btc_daily_df['Close Time']/1000, unit='s')"
   ]
  },
  {
   "cell_type": "code",
   "execution_count": 17,
   "id": "94df7dde-0269-4fd0-b18a-85a8af41eccf",
   "metadata": {},
   "outputs": [],
   "source": [
    "numeric_columns = ['Open', 'High', 'Low', 'Close', 'Volume', 'Quote Asset Volume', 'TB Base Volume', 'TB Quote Volume']\n",
    "btc_daily_df[numeric_columns] = btc_daily_df[numeric_columns].apply(pd.to_numeric, axis=1)"
   ]
  },
  {
   "cell_type": "code",
   "execution_count": 18,
   "id": "627b1407-d3e9-47c4-b563-2bf62b8f42e8",
   "metadata": {},
   "outputs": [
    {
     "data": {
      "text/html": [
       "<div>\n",
       "<style scoped>\n",
       "    .dataframe tbody tr th:only-of-type {\n",
       "        vertical-align: middle;\n",
       "    }\n",
       "\n",
       "    .dataframe tbody tr th {\n",
       "        vertical-align: top;\n",
       "    }\n",
       "\n",
       "    .dataframe thead th {\n",
       "        text-align: right;\n",
       "    }\n",
       "</style>\n",
       "<table border=\"1\" class=\"dataframe\">\n",
       "  <thead>\n",
       "    <tr style=\"text-align: right;\">\n",
       "      <th></th>\n",
       "      <th>Open</th>\n",
       "      <th>High</th>\n",
       "      <th>Low</th>\n",
       "      <th>Close</th>\n",
       "      <th>Volume</th>\n",
       "    </tr>\n",
       "    <tr>\n",
       "      <th>Open Time</th>\n",
       "      <th></th>\n",
       "      <th></th>\n",
       "      <th></th>\n",
       "      <th></th>\n",
       "      <th></th>\n",
       "    </tr>\n",
       "  </thead>\n",
       "  <tbody>\n",
       "    <tr>\n",
       "      <th>2021-01-01</th>\n",
       "      <td>28923.63</td>\n",
       "      <td>29600.00</td>\n",
       "      <td>28624.57</td>\n",
       "      <td>29331.69</td>\n",
       "      <td>54182.925011</td>\n",
       "    </tr>\n",
       "    <tr>\n",
       "      <th>2021-01-02</th>\n",
       "      <td>29331.70</td>\n",
       "      <td>33300.00</td>\n",
       "      <td>28946.53</td>\n",
       "      <td>32178.33</td>\n",
       "      <td>129993.873362</td>\n",
       "    </tr>\n",
       "    <tr>\n",
       "      <th>2021-01-03</th>\n",
       "      <td>32176.45</td>\n",
       "      <td>34778.11</td>\n",
       "      <td>31962.99</td>\n",
       "      <td>33000.05</td>\n",
       "      <td>120957.566750</td>\n",
       "    </tr>\n",
       "    <tr>\n",
       "      <th>2021-01-04</th>\n",
       "      <td>33000.05</td>\n",
       "      <td>33600.00</td>\n",
       "      <td>28130.00</td>\n",
       "      <td>31988.71</td>\n",
       "      <td>140899.885690</td>\n",
       "    </tr>\n",
       "    <tr>\n",
       "      <th>2021-01-05</th>\n",
       "      <td>31989.75</td>\n",
       "      <td>34360.00</td>\n",
       "      <td>29900.00</td>\n",
       "      <td>33949.53</td>\n",
       "      <td>116049.997038</td>\n",
       "    </tr>\n",
       "    <tr>\n",
       "      <th>...</th>\n",
       "      <td>...</td>\n",
       "      <td>...</td>\n",
       "      <td>...</td>\n",
       "      <td>...</td>\n",
       "      <td>...</td>\n",
       "    </tr>\n",
       "    <tr>\n",
       "      <th>2021-10-11</th>\n",
       "      <td>54659.01</td>\n",
       "      <td>57839.04</td>\n",
       "      <td>54415.06</td>\n",
       "      <td>57471.35</td>\n",
       "      <td>52933.165751</td>\n",
       "    </tr>\n",
       "    <tr>\n",
       "      <th>2021-10-12</th>\n",
       "      <td>57471.35</td>\n",
       "      <td>57680.00</td>\n",
       "      <td>53879.00</td>\n",
       "      <td>55996.93</td>\n",
       "      <td>53471.285500</td>\n",
       "    </tr>\n",
       "    <tr>\n",
       "      <th>2021-10-13</th>\n",
       "      <td>55996.91</td>\n",
       "      <td>57777.00</td>\n",
       "      <td>54167.19</td>\n",
       "      <td>57367.00</td>\n",
       "      <td>55808.444920</td>\n",
       "    </tr>\n",
       "    <tr>\n",
       "      <th>2021-10-14</th>\n",
       "      <td>57370.83</td>\n",
       "      <td>58532.54</td>\n",
       "      <td>56818.05</td>\n",
       "      <td>57347.94</td>\n",
       "      <td>43053.336781</td>\n",
       "    </tr>\n",
       "    <tr>\n",
       "      <th>2021-10-15</th>\n",
       "      <td>57347.94</td>\n",
       "      <td>59998.00</td>\n",
       "      <td>56850.00</td>\n",
       "      <td>59500.27</td>\n",
       "      <td>22985.941731</td>\n",
       "    </tr>\n",
       "  </tbody>\n",
       "</table>\n",
       "<p>288 rows × 5 columns</p>\n",
       "</div>"
      ],
      "text/plain": [
       "                Open      High       Low     Close         Volume\n",
       "Open Time                                                        \n",
       "2021-01-01  28923.63  29600.00  28624.57  29331.69   54182.925011\n",
       "2021-01-02  29331.70  33300.00  28946.53  32178.33  129993.873362\n",
       "2021-01-03  32176.45  34778.11  31962.99  33000.05  120957.566750\n",
       "2021-01-04  33000.05  33600.00  28130.00  31988.71  140899.885690\n",
       "2021-01-05  31989.75  34360.00  29900.00  33949.53  116049.997038\n",
       "...              ...       ...       ...       ...            ...\n",
       "2021-10-11  54659.01  57839.04  54415.06  57471.35   52933.165751\n",
       "2021-10-12  57471.35  57680.00  53879.00  55996.93   53471.285500\n",
       "2021-10-13  55996.91  57777.00  54167.19  57367.00   55808.444920\n",
       "2021-10-14  57370.83  58532.54  56818.05  57347.94   43053.336781\n",
       "2021-10-15  57347.94  59998.00  56850.00  59500.27   22985.941731\n",
       "\n",
       "[288 rows x 5 columns]"
      ]
     },
     "execution_count": 18,
     "metadata": {},
     "output_type": "execute_result"
    }
   ],
   "source": [
    "btc_ohlcv_daily = btc_daily_df.iloc[:,0:6]\n",
    "btc_ohlcv_daily = btc_ohlcv_daily.set_index('Open Time')\n",
    "btc_ohlcv_daily"
   ]
  },
  {
   "cell_type": "code",
   "execution_count": 19,
   "id": "4faac810-dedb-4943-8516-e0bd1915a443",
   "metadata": {},
   "outputs": [],
   "source": [
    "btc_ohlcv_daily.to_csv(\"Resources/daily_btc_ohclv_2021.csv\")"
   ]
  },
  {
   "cell_type": "code",
   "execution_count": 20,
   "id": "ec237b49-e018-41ff-ae3d-0dbfcc731548",
   "metadata": {},
   "outputs": [
    {
     "data": {
      "text/plain": [
       "'\\nPulling historical minute data \\n'"
      ]
     },
     "execution_count": 20,
     "metadata": {},
     "output_type": "execute_result"
    }
   ],
   "source": [
    "\"\"\"\n",
    "Pulling historical minute data \n",
    "\"\"\""
   ]
  },
  {
   "cell_type": "code",
   "execution_count": 21,
   "id": "d61b4f71-3f1f-4261-b480-94de23adc106",
   "metadata": {},
   "outputs": [],
   "source": [
    "historical_minute = client.get_historical_klines('BTCUSDC', Client.KLINE_INTERVAL_1MINUTE, '5 day ago UTC')"
   ]
  },
  {
   "cell_type": "code",
   "execution_count": 22,
   "id": "ede5e7d3-9cef-46fc-af64-ec9295672615",
   "metadata": {},
   "outputs": [],
   "source": [
    "hist_min = pd.DataFrame(historical_minute)"
   ]
  },
  {
   "cell_type": "code",
   "execution_count": 23,
   "id": "74d85e44-0c5d-42b0-b81f-bec854b776ed",
   "metadata": {},
   "outputs": [],
   "source": [
    "hist_min.columns = ['Open Time', 'Open', 'High', 'Low', 'Close', 'Volume', 'Close Time', 'Quote Asset Volume', \n",
    "                    'Number of Trades', 'TB Base Volume', 'TB Quote Volume', 'Ignore']"
   ]
  },
  {
   "cell_type": "code",
   "execution_count": 24,
   "id": "0f38de4b-44b7-4413-b5e3-5ab1247edc7d",
   "metadata": {},
   "outputs": [],
   "source": [
    "hist_min['Open Time'] = pd.to_datetime(hist_min['Open Time']/1000, unit='s')\n",
    "hist_min['Close Time'] = pd.to_datetime(hist_min['Close Time']/1000, unit='s')\n"
   ]
  },
  {
   "cell_type": "code",
   "execution_count": 25,
   "id": "f394022f-126d-40f4-ac40-77d5694200b3",
   "metadata": {},
   "outputs": [],
   "source": [
    "numeric_columns = ['Open', 'High', 'Low', 'Close', 'Volume', 'Quote Asset Volume', 'TB Base Volume', 'TB Quote Volume']\n",
    "hist_min[numeric_columns] = hist_min[numeric_columns].apply(pd.to_numeric, axis=1)"
   ]
  },
  {
   "cell_type": "code",
   "execution_count": 26,
   "id": "c54b09a6-c32f-42fd-8bd9-a75ffd2c11f6",
   "metadata": {},
   "outputs": [
    {
     "data": {
      "text/html": [
       "<div>\n",
       "<style scoped>\n",
       "    .dataframe tbody tr th:only-of-type {\n",
       "        vertical-align: middle;\n",
       "    }\n",
       "\n",
       "    .dataframe tbody tr th {\n",
       "        vertical-align: top;\n",
       "    }\n",
       "\n",
       "    .dataframe thead th {\n",
       "        text-align: right;\n",
       "    }\n",
       "</style>\n",
       "<table border=\"1\" class=\"dataframe\">\n",
       "  <thead>\n",
       "    <tr style=\"text-align: right;\">\n",
       "      <th></th>\n",
       "      <th>Open</th>\n",
       "      <th>High</th>\n",
       "      <th>Low</th>\n",
       "      <th>Close</th>\n",
       "      <th>Volume</th>\n",
       "    </tr>\n",
       "    <tr>\n",
       "      <th>Open Time</th>\n",
       "      <th></th>\n",
       "      <th></th>\n",
       "      <th></th>\n",
       "      <th></th>\n",
       "      <th></th>\n",
       "    </tr>\n",
       "  </thead>\n",
       "  <tbody>\n",
       "    <tr>\n",
       "      <th>2021-10-10 06:09:00</th>\n",
       "      <td>55709.36</td>\n",
       "      <td>55724.57</td>\n",
       "      <td>55706.70</td>\n",
       "      <td>55724.57</td>\n",
       "      <td>0.56403</td>\n",
       "    </tr>\n",
       "    <tr>\n",
       "      <th>2021-10-10 06:10:00</th>\n",
       "      <td>55742.80</td>\n",
       "      <td>55759.57</td>\n",
       "      <td>55742.80</td>\n",
       "      <td>55752.76</td>\n",
       "      <td>0.32922</td>\n",
       "    </tr>\n",
       "    <tr>\n",
       "      <th>2021-10-10 06:11:00</th>\n",
       "      <td>55751.30</td>\n",
       "      <td>55770.67</td>\n",
       "      <td>55748.26</td>\n",
       "      <td>55766.65</td>\n",
       "      <td>0.15288</td>\n",
       "    </tr>\n",
       "    <tr>\n",
       "      <th>2021-10-10 06:12:00</th>\n",
       "      <td>55768.60</td>\n",
       "      <td>55770.50</td>\n",
       "      <td>55745.04</td>\n",
       "      <td>55751.96</td>\n",
       "      <td>0.18513</td>\n",
       "    </tr>\n",
       "    <tr>\n",
       "      <th>2021-10-10 06:13:00</th>\n",
       "      <td>55741.08</td>\n",
       "      <td>55763.42</td>\n",
       "      <td>55739.91</td>\n",
       "      <td>55757.96</td>\n",
       "      <td>0.47958</td>\n",
       "    </tr>\n",
       "    <tr>\n",
       "      <th>...</th>\n",
       "      <td>...</td>\n",
       "      <td>...</td>\n",
       "      <td>...</td>\n",
       "      <td>...</td>\n",
       "      <td>...</td>\n",
       "    </tr>\n",
       "    <tr>\n",
       "      <th>2021-10-15 06:04:00</th>\n",
       "      <td>59632.53</td>\n",
       "      <td>59635.60</td>\n",
       "      <td>59621.07</td>\n",
       "      <td>59621.97</td>\n",
       "      <td>0.61397</td>\n",
       "    </tr>\n",
       "    <tr>\n",
       "      <th>2021-10-15 06:05:00</th>\n",
       "      <td>59642.96</td>\n",
       "      <td>59645.22</td>\n",
       "      <td>59590.38</td>\n",
       "      <td>59610.30</td>\n",
       "      <td>0.50913</td>\n",
       "    </tr>\n",
       "    <tr>\n",
       "      <th>2021-10-15 06:06:00</th>\n",
       "      <td>59620.23</td>\n",
       "      <td>59620.23</td>\n",
       "      <td>59549.26</td>\n",
       "      <td>59549.26</td>\n",
       "      <td>1.92446</td>\n",
       "    </tr>\n",
       "    <tr>\n",
       "      <th>2021-10-15 06:07:00</th>\n",
       "      <td>59580.22</td>\n",
       "      <td>59580.22</td>\n",
       "      <td>59503.90</td>\n",
       "      <td>59530.12</td>\n",
       "      <td>1.64753</td>\n",
       "    </tr>\n",
       "    <tr>\n",
       "      <th>2021-10-15 06:08:00</th>\n",
       "      <td>59518.61</td>\n",
       "      <td>59543.79</td>\n",
       "      <td>59511.87</td>\n",
       "      <td>59514.58</td>\n",
       "      <td>0.41735</td>\n",
       "    </tr>\n",
       "  </tbody>\n",
       "</table>\n",
       "<p>7200 rows × 5 columns</p>\n",
       "</div>"
      ],
      "text/plain": [
       "                         Open      High       Low     Close   Volume\n",
       "Open Time                                                           \n",
       "2021-10-10 06:09:00  55709.36  55724.57  55706.70  55724.57  0.56403\n",
       "2021-10-10 06:10:00  55742.80  55759.57  55742.80  55752.76  0.32922\n",
       "2021-10-10 06:11:00  55751.30  55770.67  55748.26  55766.65  0.15288\n",
       "2021-10-10 06:12:00  55768.60  55770.50  55745.04  55751.96  0.18513\n",
       "2021-10-10 06:13:00  55741.08  55763.42  55739.91  55757.96  0.47958\n",
       "...                       ...       ...       ...       ...      ...\n",
       "2021-10-15 06:04:00  59632.53  59635.60  59621.07  59621.97  0.61397\n",
       "2021-10-15 06:05:00  59642.96  59645.22  59590.38  59610.30  0.50913\n",
       "2021-10-15 06:06:00  59620.23  59620.23  59549.26  59549.26  1.92446\n",
       "2021-10-15 06:07:00  59580.22  59580.22  59503.90  59530.12  1.64753\n",
       "2021-10-15 06:08:00  59518.61  59543.79  59511.87  59514.58  0.41735\n",
       "\n",
       "[7200 rows x 5 columns]"
      ]
     },
     "execution_count": 26,
     "metadata": {},
     "output_type": "execute_result"
    }
   ],
   "source": [
    "btc_ohlcv_minute = hist_min.iloc[:,0:6]\n",
    "btc_ohlcv_minute = btc_ohlcv_minute.set_index('Open Time')\n",
    "btc_ohlcv_minute"
   ]
  },
  {
   "cell_type": "code",
   "execution_count": 27,
   "id": "a1e73c4c-2e2c-4b91-9352-192488afe79d",
   "metadata": {},
   "outputs": [],
   "source": [
    "btc_ohlcv_minute.to_csv(\"Resources/minute_btc_ohclv_2021.csv\")"
   ]
  },
  {
   "cell_type": "code",
   "execution_count": 28,
   "id": "a075ee4b-ca7f-4659-a85c-53714099b072",
   "metadata": {},
   "outputs": [
    {
     "data": {
      "text/plain": [
       "'\\nNext, we will be using the daily data for our Recurrent Neural Network. We are using Recurrent Neural Network for its use of time series and sequential data. \\nRNN specializes in using information from prior inputs and uses it to influence current inputs and outputs, and the cycle repeats. \\n'"
      ]
     },
     "execution_count": 28,
     "metadata": {},
     "output_type": "execute_result"
    }
   ],
   "source": [
    "\"\"\"\n",
    "Next, we will be using the daily data for our Recurrent Neural Network. We are using Recurrent Neural Network for its use of time series and sequential data. \n",
    "RNN specializes in using information from prior inputs and uses it to influence current inputs and outputs, and the cycle repeats. \n",
    "\"\"\""
   ]
  },
  {
   "cell_type": "code",
   "execution_count": 29,
   "id": "fc4041d8-8221-4baf-97a3-7abdc373ce65",
   "metadata": {},
   "outputs": [],
   "source": [
    "btc_df = pd.read_csv(Path(\"Resources/daily_btc_ohclv_2021.csv\"), \n",
    "                     index_col= \"Open Time\")\n",
    "target_col = 'Close'"
   ]
  },
  {
   "cell_type": "code",
   "execution_count": 30,
   "id": "70cc3b69-0f27-4f0c-aec8-101e0a45e82a",
   "metadata": {},
   "outputs": [],
   "source": [
    "# J.Guanzon Comment: Using an 80/20 split for our training data and testing data. Testing 2 other testing sizes to see if there are any differnces in accuracy.\n",
    "\n",
    "def train_test_split(btc_df, test_size=0.2):\n",
    "  split_row = len(btc_df) - int(test_size * len(btc_df))\n",
    "  train_data = btc_df.iloc[:split_row]\n",
    "  test_data = btc_df.iloc[split_row:]\n",
    "  return train_data, test_data\n",
    "\n",
    "train, test = train_test_split(btc_df, test_size=0.2)\n",
    "\n",
    "# def train_test_split(btc_df, test_size=0.3):\n",
    "#   split_row = len(btc_df) - int(test_size * len(btc_df))\n",
    "#   train_data = btc_df.iloc[:split_row]\n",
    "#   test_data = btc_df.iloc[split_row:]\n",
    "#   return train_data, test_data\n",
    "\n",
    "# train, test = train_test_split(btc_df, test_size=0.3)\n",
    "\n",
    "# def train_test_split(btc_df, test_size=0.1):\n",
    "#   split_row = len(btc_df) - int(test_size * len(btc_df))\n",
    "#   train_data = btc_df.iloc[:split_row]\n",
    "#   test_data = btc_df.iloc[split_row:]\n",
    "#   return train_data, test_data\n",
    "\n",
    "# train, test = train_test_split(btc_df, test_size=0.1)"
   ]
  },
  {
   "cell_type": "code",
   "execution_count": 31,
   "id": "5ceab798-eedd-469f-9758-a60d3f81b11f",
   "metadata": {
    "tags": []
   },
   "outputs": [
    {
     "data": {
      "image/png": "[encoded data removed]",
      "text/plain": [
       "<Figure size 1440x504 with 1 Axes>"
      ]
     },
     "metadata": {
      "needs_background": "light"
     },
     "output_type": "display_data"
    }
   ],
   "source": [
    "def line_plot(line1, line2, label1=None, label2=None, title='', lw=2):\n",
    "    fig, ax = plt.subplots(1, figsize=(20, 7))\n",
    "    ax.plot(line1, label=label1, linewidth=lw)\n",
    "    ax.plot(line2, label=label2, linewidth=lw)\n",
    "    ax.set_ylabel('price [USD]', fontsize=14)\n",
    "    fmt_bimonthly = mdates.MonthLocator(interval=2)\n",
    "    ax.xaxis.set_major_locator(fmt_bimonthly)\n",
    "    ax.set_title(title, fontsize=16)\n",
    "    fig.autofmt_xdate() \n",
    "    ax.legend(loc='best', fontsize=16)\n",
    "\n",
    "line_plot(train[target_col], test[target_col], 'training', 'test', title='BTC 2021 to Current Day Predictions')"
   ]
  },
  {
   "cell_type": "code",
   "execution_count": 32,
   "id": "4e415952-eabe-41d2-b833-7e8432f531bd",
   "metadata": {},
   "outputs": [
    {
     "data": {
      "text/plain": [
       "'\\nNext, we have to prep the data for RNN by normalizing the numeric columns in the dataset to a common scale, without distorting differences in the range of values.\\n'"
      ]
     },
     "execution_count": 32,
     "metadata": {},
     "output_type": "execute_result"
    }
   ],
   "source": [
    "\"\"\"\n",
    "Next, we have to prep the data for RNN by normalizing the numeric columns in the dataset to a common scale, without distorting differences in the range of values.\n",
    "\"\"\""
   ]
  },
  {
   "cell_type": "code",
   "execution_count": 33,
   "id": "83f9c741-7791-4474-89ab-503c6d74e54d",
   "metadata": {},
   "outputs": [],
   "source": [
    "def normalise_zero_base(df):\n",
    "    return df / df.iloc[0] - 1\n",
    "\n",
    "def normalise_min_max(df):\n",
    "    return (df - df.min()) / (data.max() - df.min())"
   ]
  },
  {
   "cell_type": "code",
   "execution_count": 34,
   "id": "6a477607-3838-4d39-bd77-163b24747ca3",
   "metadata": {},
   "outputs": [],
   "source": [
    "def extract_window_data(btc_df, window_len=10, zero_base=True):\n",
    "    window_data = []\n",
    "    for idx in range(len(btc_df) - window_len):\n",
    "        tmp = btc_df[idx: (idx + window_len)].copy()\n",
    "        if zero_base:\n",
    "            tmp = normalise_zero_base(tmp)\n",
    "        window_data.append(tmp.values)\n",
    "    return np.array(window_data)"
   ]
  },
  {
   "cell_type": "code",
   "execution_count": 35,
   "id": "d48d956f-27b8-4ca1-a08c-d7936e96ce1f",
   "metadata": {},
   "outputs": [],
   "source": [
    "# J.Guanzon Comment: We want to use the data from Jan-Jun 2021 and use the rest of the data to train and predict the rest of the data.\n",
    "X_train= btc_df[:\"2021-06-01\"]\n",
    "X_test = btc_df[\"2021-06-01\":]\n",
    "y_train = btc_df.loc[:\"2021-06-01\",target_col]\n",
    "y_test = btc_df.loc[\"2021-06-01\":,target_col]"
   ]
  },
  {
   "cell_type": "code",
   "execution_count": 36,
   "id": "ace9803e-95cb-4623-a74c-0016522af5e3",
   "metadata": {},
   "outputs": [],
   "source": [
    "def prepare_data(btc_df, target_col, window_len=10, zero_base=True, test_size=0.2):\n",
    "    train_data, test_data = train_test_split(btc_df, test_size=test_size)\n",
    "    X_train = extract_window_data(train_data, window_len, zero_base)\n",
    "    X_test = extract_window_data(test_data, window_len, zero_base)\n",
    "    y_train = train_data[target_col][window_len:].values\n",
    "    y_test = test_data[target_col][window_len:].values\n",
    "    if zero_base:\n",
    "        y_train = y_train / train_data[target_col][:-window_len].values - 1\n",
    "        y_test = y_test / test_data[target_col][:-window_len].values - 1\n",
    "\n",
    "    return train_data, test_data, X_train, X_test, y_train, y_test\n",
    "\n",
    "# def prepare_data(btc_df, target_col, window_len=10, zero_base=True, test_size=0.3):\n",
    "#     train_data, test_data = train_test_split(btc_df, test_size=test_size)\n",
    "#     X_train = extract_window_data(train_data, window_len, zero_base)\n",
    "#     X_test = extract_window_data(test_data, window_len, zero_base)\n",
    "#     y_train = train_data[target_col][window_len:].values\n",
    "#     y_test = test_data[target_col][window_len:].values\n",
    "#     if zero_base:\n",
    "#         y_train = y_train / train_data[target_col][:-window_len].values - 1\n",
    "#         y_test = y_test / test_data[target_col][:-window_len].values - 1\n",
    "\n",
    "#     return train_data, test_data, X_train, X_test, y_train, y_test\n",
    "\n",
    "# def prepare_data(btc_df, target_col, window_len=10, zero_base=True, test_size=0.1):\n",
    "#     train_data, test_data = train_test_split(btc_df, test_size=test_size)\n",
    "#     X_train = extract_window_data(train_data, window_len, zero_base)\n",
    "#     X_test = extract_window_data(test_data, window_len, zero_base)\n",
    "#     y_train = train_data[target_col][window_len:].values\n",
    "#     y_test = test_data[target_col][window_len:].values\n",
    "#     if zero_base:\n",
    "#         y_train = y_train / train_data[target_col][:-window_len].values - 1\n",
    "#         y_test = y_test / test_data[target_col][:-window_len].values - 1\n",
    "\n",
    "#     return train_data, test_data, X_train, X_test, y_train, y_test"
   ]
  },
  {
   "cell_type": "code",
   "execution_count": 37,
   "id": "0aec7d56-695f-412b-a2b1-2c80f3518e4b",
   "metadata": {},
   "outputs": [],
   "source": [
    "def build_lstm_model(input_data, output_size, neurons=100, activ_func='linear', dropout=0.2, loss='mse', optimizer='adam'):\n",
    "    model = Sequential()\n",
    "    stm= LSTM(neurons, input_shape=(input_data.shape[1], input_data.shape[2]))\n",
    "    model.add(stm)\n",
    "    model.add(Dropout(dropout))\n",
    "    model.add(Dense(units=output_size))\n",
    "    model.add(Activation(activ_func))\n",
    "    model.compile(loss=loss, optimizer=optimizer)\n",
    "    return model"
   ]
  },
  {
   "cell_type": "code",
   "execution_count": 38,
   "id": "ddcf752f-5f80-4ea4-a37d-33fbbbc4979f",
   "metadata": {},
   "outputs": [],
   "source": [
    "np.random.seed(50)\n",
    "window_len = 5\n",
    "test_size = 0.2\n",
    "zero_base = True\n",
    "lstm_neurons = 100\n",
    "epochs = 100\n",
    "batch_size = 32\n",
    "loss = 'mse'\n",
    "dropout = 0.2\n",
    "optimizer = 'adam'"
   ]
  },
  {
   "cell_type": "code",
   "execution_count": 39,
   "id": "d8d5bea5-72b5-4f05-a512-404b03c115f0",
   "metadata": {},
   "outputs": [
    {
     "name": "stdout",
     "output_type": "stream",
     "text": [
      "Epoch 1/100\n",
      "8/8 [==============================] - 4s 10ms/step - loss: 0.0095\n",
      "Epoch 2/100\n",
      "8/8 [==============================] - 0s 9ms/step - loss: 0.0065\n",
      "Epoch 3/100\n",
      "8/8 [==============================] - 0s 9ms/step - loss: 0.0052\n",
      "Epoch 4/100\n",
      "8/8 [==============================] - 0s 9ms/step - loss: 0.0045\n",
      "Epoch 5/100\n",
      "8/8 [==============================] - 0s 8ms/step - loss: 0.0042\n",
      "Epoch 6/100\n",
      "8/8 [==============================] - 0s 9ms/step - loss: 0.0042\n",
      "Epoch 7/100\n",
      "8/8 [==============================] - 0s 10ms/step - loss: 0.0040\n",
      "Epoch 8/100\n",
      "8/8 [==============================] - 0s 8ms/step - loss: 0.0037\n",
      "Epoch 9/100\n",
      "8/8 [==============================] - 0s 9ms/step - loss: 0.0039\n",
      "Epoch 10/100\n",
      "8/8 [==============================] - 0s 9ms/step - loss: 0.0035\n",
      "Epoch 11/100\n",
      "8/8 [==============================] - 0s 9ms/step - loss: 0.0033\n",
      "Epoch 12/100\n",
      "8/8 [==============================] - 0s 9ms/step - loss: 0.0034\n",
      "Epoch 13/100\n",
      "8/8 [==============================] - 0s 10ms/step - loss: 0.0032\n",
      "Epoch 14/100\n",
      "8/8 [==============================] - 0s 8ms/step - loss: 0.0030\n",
      "Epoch 15/100\n",
      "8/8 [==============================] - 0s 9ms/step - loss: 0.0033\n",
      "Epoch 16/100\n",
      "8/8 [==============================] - 0s 9ms/step - loss: 0.0029\n",
      "Epoch 17/100\n",
      "8/8 [==============================] - 0s 8ms/step - loss: 0.0030\n",
      "Epoch 18/100\n",
      "8/8 [==============================] - 0s 9ms/step - loss: 0.0030\n",
      "Epoch 19/100\n",
      "8/8 [==============================] - 0s 9ms/step - loss: 0.0031\n",
      "Epoch 20/100\n",
      "8/8 [==============================] - 0s 9ms/step - loss: 0.0031\n",
      "Epoch 21/100\n",
      "8/8 [==============================] - 0s 8ms/step - loss: 0.0028\n",
      "Epoch 22/100\n",
      "8/8 [==============================] - 0s 9ms/step - loss: 0.0028\n",
      "Epoch 23/100\n",
      "8/8 [==============================] - 0s 9ms/step - loss: 0.0028\n",
      "Epoch 24/100\n",
      "8/8 [==============================] - 0s 9ms/step - loss: 0.0027\n",
      "Epoch 25/100\n",
      "8/8 [==============================] - 0s 8ms/step - loss: 0.0028\n",
      "Epoch 26/100\n",
      "8/8 [==============================] - 0s 8ms/step - loss: 0.0027\n",
      "Epoch 27/100\n",
      "8/8 [==============================] - 0s 9ms/step - loss: 0.0027\n",
      "Epoch 28/100\n",
      "8/8 [==============================] - 0s 9ms/step - loss: 0.0025\n",
      "Epoch 29/100\n",
      "8/8 [==============================] - 0s 9ms/step - loss: 0.0026\n",
      "Epoch 30/100\n",
      "8/8 [==============================] - 0s 9ms/step - loss: 0.0027\n",
      "Epoch 31/100\n",
      "8/8 [==============================] - 0s 9ms/step - loss: 0.0026\n",
      "Epoch 32/100\n",
      "8/8 [==============================] - 0s 9ms/step - loss: 0.0026\n",
      "Epoch 33/100\n",
      "8/8 [==============================] - 0s 9ms/step - loss: 0.0029\n",
      "Epoch 34/100\n",
      "8/8 [==============================] - 0s 9ms/step - loss: 0.0027\n",
      "Epoch 35/100\n",
      "8/8 [==============================] - 0s 7ms/step - loss: 0.0026\n",
      "Epoch 36/100\n",
      "8/8 [==============================] - 0s 9ms/step - loss: 0.0026\n",
      "Epoch 37/100\n",
      "8/8 [==============================] - 0s 10ms/step - loss: 0.0025\n",
      "Epoch 38/100\n",
      "8/8 [==============================] - 0s 9ms/step - loss: 0.0025\n",
      "Epoch 39/100\n",
      "8/8 [==============================] - 0s 9ms/step - loss: 0.0026\n",
      "Epoch 40/100\n",
      "8/8 [==============================] - 0s 9ms/step - loss: 0.0026\n",
      "Epoch 41/100\n",
      "8/8 [==============================] - 0s 9ms/step - loss: 0.0026\n",
      "Epoch 42/100\n",
      "8/8 [==============================] - 0s 9ms/step - loss: 0.0024\n",
      "Epoch 43/100\n",
      "8/8 [==============================] - 0s 7ms/step - loss: 0.0026\n",
      "Epoch 44/100\n",
      "8/8 [==============================] - 0s 9ms/step - loss: 0.0026\n",
      "Epoch 45/100\n",
      "8/8 [==============================] - 0s 9ms/step - loss: 0.0026\n",
      "Epoch 46/100\n",
      "8/8 [==============================] - 0s 9ms/step - loss: 0.0024\n",
      "Epoch 47/100\n",
      "8/8 [==============================] - 0s 9ms/step - loss: 0.0026\n",
      "Epoch 48/100\n",
      "8/8 [==============================] - 0s 9ms/step - loss: 0.0024\n",
      "Epoch 49/100\n",
      "8/8 [==============================] - 0s 9ms/step - loss: 0.0024\n",
      "Epoch 50/100\n",
      "8/8 [==============================] - 0s 9ms/step - loss: 0.0024\n",
      "Epoch 51/100\n",
      "8/8 [==============================] - 0s 9ms/step - loss: 0.0022\n",
      "Epoch 52/100\n",
      "8/8 [==============================] - 0s 10ms/step - loss: 0.0024\n",
      "Epoch 53/100\n",
      "8/8 [==============================] - 0s 10ms/step - loss: 0.0026\n",
      "Epoch 54/100\n",
      "8/8 [==============================] - 0s 10ms/step - loss: 0.0025\n",
      "Epoch 55/100\n",
      "8/8 [==============================] - 0s 10ms/step - loss: 0.0023\n",
      "Epoch 56/100\n",
      "8/8 [==============================] - 0s 10ms/step - loss: 0.0024\n",
      "Epoch 57/100\n",
      "8/8 [==============================] - 0s 9ms/step - loss: 0.0023\n",
      "Epoch 58/100\n",
      "8/8 [==============================] - 0s 8ms/step - loss: 0.0024\n",
      "Epoch 59/100\n",
      "8/8 [==============================] - 0s 9ms/step - loss: 0.0023\n",
      "Epoch 60/100\n",
      "8/8 [==============================] - 0s 8ms/step - loss: 0.0024\n",
      "Epoch 61/100\n",
      "8/8 [==============================] - 0s 8ms/step - loss: 0.0024\n",
      "Epoch 62/100\n",
      "8/8 [==============================] - 0s 9ms/step - loss: 0.0024\n",
      "Epoch 63/100\n",
      "8/8 [==============================] - 0s 9ms/step - loss: 0.0023\n",
      "Epoch 64/100\n",
      "8/8 [==============================] - 0s 9ms/step - loss: 0.0023\n",
      "Epoch 65/100\n",
      "8/8 [==============================] - 0s 8ms/step - loss: 0.0022\n",
      "Epoch 66/100\n",
      "8/8 [==============================] - 0s 8ms/step - loss: 0.0024\n",
      "Epoch 67/100\n",
      "8/8 [==============================] - 0s 8ms/step - loss: 0.0024\n",
      "Epoch 68/100\n",
      "8/8 [==============================] - 0s 8ms/step - loss: 0.0024\n",
      "Epoch 69/100\n",
      "8/8 [==============================] - 0s 9ms/step - loss: 0.0023\n",
      "Epoch 70/100\n",
      "8/8 [==============================] - 0s 9ms/step - loss: 0.0023\n",
      "Epoch 71/100\n",
      "8/8 [==============================] - 0s 9ms/step - loss: 0.0022\n",
      "Epoch 72/100\n",
      "8/8 [==============================] - 0s 8ms/step - loss: 0.0024\n",
      "Epoch 73/100\n",
      "8/8 [==============================] - 0s 10ms/step - loss: 0.0024\n",
      "Epoch 74/100\n",
      "8/8 [==============================] - 0s 9ms/step - loss: 0.0023\n",
      "Epoch 75/100\n",
      "8/8 [==============================] - 0s 9ms/step - loss: 0.0025\n",
      "Epoch 76/100\n",
      "8/8 [==============================] - 0s 10ms/step - loss: 0.0023\n",
      "Epoch 77/100\n",
      "8/8 [==============================] - 0s 9ms/step - loss: 0.0023\n",
      "Epoch 78/100\n",
      "8/8 [==============================] - 0s 10ms/step - loss: 0.0025\n",
      "Epoch 79/100\n",
      "8/8 [==============================] - 0s 9ms/step - loss: 0.0026\n",
      "Epoch 80/100\n",
      "8/8 [==============================] - 0s 10ms/step - loss: 0.0022\n",
      "Epoch 81/100\n",
      "8/8 [==============================] - 0s 9ms/step - loss: 0.0024\n",
      "Epoch 82/100\n",
      "8/8 [==============================] - 0s 9ms/step - loss: 0.0021\n",
      "Epoch 83/100\n",
      "8/8 [==============================] - 0s 9ms/step - loss: 0.0021\n",
      "Epoch 84/100\n",
      "8/8 [==============================] - 0s 9ms/step - loss: 0.0021\n",
      "Epoch 85/100\n",
      "8/8 [==============================] - 0s 9ms/step - loss: 0.0023\n",
      "Epoch 86/100\n",
      "8/8 [==============================] - 0s 9ms/step - loss: 0.0025\n",
      "Epoch 87/100\n",
      "8/8 [==============================] - 0s 8ms/step - loss: 0.0024\n",
      "Epoch 88/100\n",
      "8/8 [==============================] - 0s 8ms/step - loss: 0.0022\n",
      "Epoch 89/100\n",
      "8/8 [==============================] - 0s 9ms/step - loss: 0.0022\n",
      "Epoch 90/100\n",
      "8/8 [==============================] - 0s 8ms/step - loss: 0.0021\n",
      "Epoch 91/100\n",
      "8/8 [==============================] - 0s 9ms/step - loss: 0.0022\n",
      "Epoch 92/100\n",
      "8/8 [==============================] - 0s 7ms/step - loss: 0.0025\n",
      "Epoch 93/100\n",
      "8/8 [==============================] - 0s 8ms/step - loss: 0.0026\n",
      "Epoch 94/100\n",
      "8/8 [==============================] - 0s 9ms/step - loss: 0.0024\n",
      "Epoch 95/100\n",
      "8/8 [==============================] - 0s 9ms/step - loss: 0.0023\n",
      "Epoch 96/100\n",
      "8/8 [==============================] - 0s 9ms/step - loss: 0.0022\n",
      "Epoch 97/100\n",
      "8/8 [==============================] - 0s 8ms/step - loss: 0.0022\n",
      "Epoch 98/100\n",
      "8/8 [==============================] - 0s 8ms/step - loss: 0.0020\n",
      "Epoch 99/100\n",
      "8/8 [==============================] - 0s 9ms/step - loss: 0.0021\n",
      "Epoch 100/100\n",
      "8/8 [==============================] - 0s 9ms/step - loss: 0.0023\n"
     ]
    }
   ],
   "source": [
    "train, test, X_train, X_test, y_train, y_test = prepare_data(\n",
    "    btc_df, target_col, window_len=window_len, zero_base=zero_base, test_size=test_size)\n",
    "model = build_lstm_model(\n",
    "    X_train, output_size=1, neurons=lstm_neurons, dropout=dropout, loss=loss,\n",
    "    optimizer=optimizer)\n",
    "history = model.fit(\n",
    "    X_train, y_train, epochs=epochs, batch_size=batch_size, verbose=1, shuffle=True)"
   ]
  },
  {
   "cell_type": "code",
   "execution_count": 40,
   "id": "6a3708e2-94a7-42a2-8d8b-dac945e777f7",
   "metadata": {},
   "outputs": [
    {
     "data": {
      "text/plain": [
       "0.028931695470333287"
      ]
     },
     "execution_count": 40,
     "metadata": {},
     "output_type": "execute_result"
    }
   ],
   "source": [
    "targets = test[target_col][window_len:]\n",
    "preds = model.predict(X_test).squeeze()\n",
    "mean_absolute_error(preds, y_test)"
   ]
  },
  {
   "cell_type": "code",
   "execution_count": 41,
   "id": "272a9344-03b7-45b0-9c71-440933e30f57",
   "metadata": {},
   "outputs": [
    {
     "data": {
      "image/png": "[encoded data removed]",
      "text/plain": [
       "<Figure size 1440x504 with 1 Axes>"
      ]
     },
     "metadata": {
      "needs_background": "light"
     },
     "output_type": "display_data"
    }
   ],
   "source": [
    "# Plotting predictions against the actual. \n",
    "preds = test[target_col].values[:-window_len] * (preds + 1)\n",
    "preds = pd.Series(index=targets.index, data=preds)\n",
    "line_plot(targets, preds, 'actual', 'prediction', lw=3)"
   ]
  },
  {
   "cell_type": "code",
   "execution_count": null,
   "id": "b78c856b-0214-4a25-a63a-cb787e6d7337",
   "metadata": {},
   "outputs": [],
   "source": []
  }
 ],
 "metadata": {
  "kernelspec": {
   "display_name": "dev",
   "language": "python",
   "name": "dev"
  },
  "language_info": {
   "codemirror_mode": {
    "name": "ipython",
    "version": 3
   },
   "file_extension": ".py",
   "mimetype": "text/x-python",
   "name": "python",
   "nbconvert_exporter": "python",
   "pygments_lexer": "ipython3",
   "version": "3.6.13"
  }
 },
 "nbformat": 4,
 "nbformat_minor": 5
}
