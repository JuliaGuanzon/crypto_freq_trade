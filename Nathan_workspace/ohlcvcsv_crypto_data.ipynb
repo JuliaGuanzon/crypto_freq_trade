{
 "cells": [
  {
   "cell_type": "code",
   "execution_count": 1,
   "id": "a2834f94-ed31-4fef-af66-5acdbd0b396f",
   "metadata": {},
   "outputs": [],
   "source": [
    "\"\"\" This File is our baseline tool for getting the Open, High, Low, Close, Volume for BTC.\n",
    "    It uses Binance API and creates DataFrames for further data manipulation and TA.\n",
    "    We will use this for the Logistic Regression.\"\"\"\n",
    "from binance import Client, ThreadedWebsocketManager, ThreadedDepthCacheManager\n",
    "import pandas as pd\n",
    "import mplfinance as mpl\n",
    "import os\n",
    "import numpy as np\n",
    "from hvplot import hvPlot\n",
    "import pandas as pd\n",
    "from ta import add_all_ta_features\n",
    "from ta.utils import dropna\n",
    "import pandas_ta as ta\n",
    "from finta import TA"
   ]
  },
  {
   "cell_type": "code",
   "execution_count": null,
   "id": "e4037bbc-c760-4a85-bd39-001d8eca6a07",
   "metadata": {},
   "outputs": [],
   "source": [
    "pip install pandas_ta"
   ]
  },
  {
   "cell_type": "code",
   "execution_count": null,
   "id": "429edf8a-8ca2-4cc4-8c50-5fc26ff68ffc",
   "metadata": {},
   "outputs": [],
   "source": [
    "pip install --upgrade ta"
   ]
  },
  {
   "cell_type": "code",
   "execution_count": null,
   "id": "42f547ea-41e5-47ea-814b-32f42036e670",
   "metadata": {},
   "outputs": [],
   "source": [
    "api_key = os.environ.get(\"api_key\")\n",
    "api_secret = os.environ.get(\"api_secret\")"
   ]
  },
  {
   "cell_type": "code",
   "execution_count": null,
   "id": "e74c5ee4-9095-4bb1-a938-11c79944b5e9",
   "metadata": {},
   "outputs": [],
   "source": [
    "client = Client(api_key, api_secret)"
   ]
  },
  {
   "cell_type": "code",
   "execution_count": null,
   "id": "f87d6fb3-8c04-4053-8387-21358560398a",
   "metadata": {},
   "outputs": [],
   "source": [
    "tickers = client.get_all_tickers()"
   ]
  },
  {
   "cell_type": "code",
   "execution_count": null,
   "id": "aac5d2a5-a852-4d77-a791-03a165113b9f",
   "metadata": {},
   "outputs": [],
   "source": [
    "#tickers()"
   ]
  },
  {
   "cell_type": "code",
   "execution_count": null,
   "id": "f52a2169-6770-4c9f-91be-22222ed1e33c",
   "metadata": {},
   "outputs": [],
   "source": [
    "#tickers[1]['price']\n"
   ]
  },
  {
   "cell_type": "code",
   "execution_count": null,
   "id": "5170986c-69af-49ba-97d3-6bfb8320bd74",
   "metadata": {},
   "outputs": [],
   "source": [
    "ticker_df = pd.DataFrame(tickers)"
   ]
  },
  {
   "cell_type": "code",
   "execution_count": null,
   "id": "3c4c5e80-1252-4e1c-88b0-0d57029babcd",
   "metadata": {},
   "outputs": [],
   "source": [
    "#ticker_df.head()"
   ]
  },
  {
   "cell_type": "code",
   "execution_count": null,
   "id": "904bd910-6fa4-4e00-b439-f31f3cd8dc96",
   "metadata": {},
   "outputs": [],
   "source": [
    "#ticker_df.tail()"
   ]
  },
  {
   "cell_type": "code",
   "execution_count": null,
   "id": "4ff508e5-7986-4123-9d3c-f2ca4b994447",
   "metadata": {},
   "outputs": [],
   "source": [
    "ticker_df.set_index('symbol', inplace=True)"
   ]
  },
  {
   "cell_type": "code",
   "execution_count": null,
   "id": "3e0a0c01-3408-4da9-bb26-e2b48d9dc6bd",
   "metadata": {},
   "outputs": [],
   "source": [
    "float(ticker_df.loc['ETHUSDC']['price'])\n",
    "float(ticker_df.loc['BTCUSDT']['price'])"
   ]
  },
  {
   "cell_type": "code",
   "execution_count": null,
   "id": "34450759-724a-438f-b2c3-32483d835044",
   "metadata": {},
   "outputs": [],
   "source": [
    "# Get Depth\n",
    "depth = client.get_order_book(symbol='BTCUSDT')"
   ]
  },
  {
   "cell_type": "code",
   "execution_count": null,
   "id": "dccf541e-bb06-4f99-afb7-bc308099ae35",
   "metadata": {},
   "outputs": [],
   "source": [
    "# depth"
   ]
  },
  {
   "cell_type": "code",
   "execution_count": null,
   "id": "03b8d12b-6138-4334-b5eb-93e003c761ca",
   "metadata": {},
   "outputs": [],
   "source": [
    "depth_df = pd.DataFrame(depth['asks'])\n",
    "depth_df.columns = ['Price', 'Volume']\n",
    "depth_df.head()"
   ]
  },
  {
   "cell_type": "code",
   "execution_count": null,
   "id": "117e8e74-7402-4795-87d7-b388b23388be",
   "metadata": {},
   "outputs": [],
   "source": [
    "depth_df.dtypes"
   ]
  },
  {
   "cell_type": "code",
   "execution_count": null,
   "id": "3b13d684-d207-44e0-8f69-7d2e7223a525",
   "metadata": {},
   "outputs": [],
   "source": [
    "# client.get_historical_klines()"
   ]
  },
  {
   "cell_type": "code",
   "execution_count": null,
   "id": "ef7e6fb4-adce-4270-8f4e-93882d2ad57a",
   "metadata": {},
   "outputs": [],
   "source": [
    "# BTC Minute Data from past day\n",
    "historical_df = client.get_historical_klines('BTCUSDC', Client.KLINE_INTERVAL_1MINUTE, '1 day ago UTC')"
   ]
  },
  {
   "cell_type": "code",
   "execution_count": null,
   "id": "64fe96e3-3655-4fe1-84ce-465504d858e0",
   "metadata": {},
   "outputs": [],
   "source": [
    "hist_df = pd.DataFrame(historical_df)"
   ]
  },
  {
   "cell_type": "code",
   "execution_count": null,
   "id": "ff03d7dc-2dd4-42f3-9ccb-08f62b1a98ad",
   "metadata": {},
   "outputs": [],
   "source": [
    "# Function to get list of OHLCV Values\n",
    "#def getminutedata(symbol, interval, lookback)"
   ]
  },
  {
   "cell_type": "code",
   "execution_count": null,
   "id": "cbefba5b-807a-422a-a680-6ac1da8beaa3",
   "metadata": {},
   "outputs": [],
   "source": [
    "hist_df.head()"
   ]
  },
  {
   "cell_type": "code",
   "execution_count": null,
   "id": "c7141bae-79e7-4fe6-90d7-9c654d3f333f",
   "metadata": {},
   "outputs": [],
   "source": [
    "hist_df.columns = ['Open Time', 'Open', 'High', 'Low', 'Close', 'Volume', 'Close Time', 'Quote Asset Volume', \n",
    "                    'Number of Trades', 'TB Base Volume', 'TB Quote Volume', 'Ignore']"
   ]
  },
  {
   "cell_type": "code",
   "execution_count": null,
   "id": "496b0a24-d200-44c2-950b-3ea4846957f6",
   "metadata": {},
   "outputs": [],
   "source": [
    "hist_df.tail()"
   ]
  },
  {
   "cell_type": "code",
   "execution_count": null,
   "id": "ee4be00e-3c15-4584-9a53-1223c92926a5",
   "metadata": {},
   "outputs": [],
   "source": [
    "hist_df.shape"
   ]
  },
  {
   "cell_type": "code",
   "execution_count": null,
   "id": "888f66ef-0df6-458e-b71b-88722774f0b5",
   "metadata": {},
   "outputs": [],
   "source": [
    "hist_df.dtypes"
   ]
  },
  {
   "cell_type": "code",
   "execution_count": null,
   "id": "58ea7270-2294-4564-b61b-f30562df2425",
   "metadata": {},
   "outputs": [],
   "source": [
    "hist_df['Open Time'] = pd.to_datetime(hist_df['Open Time']/1000, unit='s')\n",
    "hist_df['Close Time'] = pd.to_datetime(hist_df['Close Time']/1000, unit='s')"
   ]
  },
  {
   "cell_type": "code",
   "execution_count": null,
   "id": "0ae32061-e35c-4dd9-b0ef-b5c79f1a3e9b",
   "metadata": {},
   "outputs": [],
   "source": [
    "numeric_columns = ['Open', 'High', 'Low', 'Close', 'Volume', 'Quote Asset Volume', 'TB Base Volume', 'TB Quote Volume']"
   ]
  },
  {
   "cell_type": "code",
   "execution_count": null,
   "id": "3036be35-4f4e-4a75-bce8-e6902bf67ab9",
   "metadata": {},
   "outputs": [],
   "source": [
    "hist_df[numeric_columns] = hist_df[numeric_columns].apply(pd.to_numeric, axis=1)"
   ]
  },
  {
   "cell_type": "code",
   "execution_count": null,
   "id": "3c4fb40b-68aa-4387-b5b1-b202f338c6da",
   "metadata": {},
   "outputs": [],
   "source": [
    "hist_df.tail()"
   ]
  },
  {
   "cell_type": "code",
   "execution_count": null,
   "id": "0b64c9b1-87e0-412d-99a6-547f03c715c9",
   "metadata": {},
   "outputs": [],
   "source": [
    "hist_df.dtypes\n"
   ]
  },
  {
   "cell_type": "code",
   "execution_count": null,
   "id": "c037e0cd-9b5c-4e0c-bdc8-c773bef97812",
   "metadata": {},
   "outputs": [],
   "source": [
    "hist_df.describe()\n"
   ]
  },
  {
   "cell_type": "code",
   "execution_count": null,
   "id": "f9ec1d54-07b9-4a42-b81c-b5f00dc9e3fa",
   "metadata": {},
   "outputs": [],
   "source": [
    "hist_df.info()"
   ]
  },
  {
   "cell_type": "code",
   "execution_count": null,
   "id": "f03a5917-e456-4725-b774-4cf10aafa498",
   "metadata": {},
   "outputs": [],
   "source": [
    "# Technical Analysis\n",
    "import mplfinance as mpf"
   ]
  },
  {
   "cell_type": "code",
   "execution_count": null,
   "id": "b04f6ed4-f77a-4c0a-bff9-63bb6be44ec7",
   "metadata": {},
   "outputs": [],
   "source": [
    "hist_df.set_index('Close Time').tail(100)"
   ]
  },
  {
   "cell_type": "code",
   "execution_count": null,
   "id": "a9af5b7e-9c2c-4f9f-9344-43e718d3dd8a",
   "metadata": {},
   "outputs": [],
   "source": [
    "mpf.plot(hist_df.set_index('Close Time').tail(50), \n",
    "        type='candle', style='charles', \n",
    "        volume=True, \n",
    "        title='BTCUSDC Last 5 Hours', \n",
    "        mav=(10,20,30))"
   ]
  },
  {
   "cell_type": "code",
   "execution_count": null,
   "id": "60fb679b-d7ec-4a50-8080-924350209596",
   "metadata": {},
   "outputs": [],
   "source": [
    "\"\"\" Daily Data from 2021 \n",
    "use the client.get_historical_klines function and input symbol, interval, and start date.\n",
    "End date is left out becaues we want current data \"\"\"\n",
    "\n",
    "btc_daily_data = client.get_historical_klines('BTCUSDC', Client.KLINE_INTERVAL_1DAY, '1 Jan 2021')"
   ]
  },
  {
   "cell_type": "code",
   "execution_count": null,
   "id": "f15c872d-d252-45af-a777-6b05b085c7a7",
   "metadata": {},
   "outputs": [],
   "source": [
    "btc_daily_df = pd.DataFrame(btc_daily_data)"
   ]
  },
  {
   "cell_type": "code",
   "execution_count": null,
   "id": "1d35c306-527a-4fd3-9cd7-314a18a5b060",
   "metadata": {},
   "outputs": [],
   "source": [
    "btc_daily_df.columns = ['Open Time', 'Open', 'High', 'Low', 'Close', 'Volume', 'Close Time', 'Quote Asset Volume', \n",
    "                    'Number of Trades', 'TB Base Volume', 'TB Quote Volume', 'Ignore']"
   ]
  },
  {
   "cell_type": "code",
   "execution_count": null,
   "id": "7190fdb2-cad7-4885-9436-7cc4a712572d",
   "metadata": {},
   "outputs": [],
   "source": [
    "btc_daily_df['Open Time'] = pd.to_datetime(btc_daily_df['Open Time']/1000, unit='s')\n",
    "btc_daily_df['Close Time'] = pd.to_datetime(btc_daily_df['Close Time']/1000, unit='s')"
   ]
  },
  {
   "cell_type": "code",
   "execution_count": null,
   "id": "8f04be0e-e0b0-4ad6-be9c-83cb3f111e23",
   "metadata": {},
   "outputs": [],
   "source": [
    "numeric_columns_d = ['Open', 'High', 'Low', 'Close', 'Volume', 'Quote Asset Volume', 'TB Base Volume', 'TB Quote Volume']"
   ]
  },
  {
   "cell_type": "code",
   "execution_count": null,
   "id": "dcd7d213-d78d-438d-9410-463b0f3d67a4",
   "metadata": {},
   "outputs": [],
   "source": [
    "btc_daily_df[numeric_columns] = btc_daily_df[numeric_columns].apply(pd.to_numeric, axis=1)"
   ]
  },
  {
   "cell_type": "code",
   "execution_count": null,
   "id": "11ed5038-1c72-4f25-ac66-cc7c0beccc7b",
   "metadata": {},
   "outputs": [],
   "source": [
    "btc_daily_df.describe()"
   ]
  },
  {
   "cell_type": "code",
   "execution_count": null,
   "id": "29379c7f-eb2c-4f18-8eb9-fb411216fbc9",
   "metadata": {},
   "outputs": [],
   "source": [
    "mpf.plot(btc_daily_df.set_index('Close Time').tail(284), \n",
    "        type='candle', style='charles', \n",
    "        volume=True, \n",
    "        title='BTCUSDC 2021 Daily ', \n",
    "        mav=(10,50,100))"
   ]
  },
  {
   "cell_type": "code",
   "execution_count": null,
   "id": "641aceb5-360b-481d-9baa-9e912608228e",
   "metadata": {},
   "outputs": [],
   "source": [
    "# Just get the Open Time, Open, High, Low, Close, Volume\n",
    "btc_ohlcv_daily = btc_daily_df.iloc[:,0:6]\n",
    "btc_ohlcv_minute = hist_df.iloc[:,0:6]"
   ]
  },
  {
   "cell_type": "code",
   "execution_count": null,
   "id": "99ef869c-c9a5-44b0-aad0-e0456f3e0809",
   "metadata": {},
   "outputs": [],
   "source": [
    "# CSV SAVER TOOL For Saving Bitcoin data to CSVs to use for LSTM\n",
    "btc_ohlcv_daily.to_csv('Data/btc_daily_lstm', index=False)\n",
    "btc_ohlcv_minute.to_csv('Data/btc_minutelstm', index=False)"
   ]
  },
  {
   "cell_type": "code",
   "execution_count": null,
   "id": "9d058da6-cbdb-4f69-8307-3d454bc5ba05",
   "metadata": {},
   "outputs": [],
   "source": [
    "btc_ohlcv_daily = btc_ohlcv_daily.set_index('Open Time')\n",
    "btc_ohlcv_minute = btc_ohlcv_minute.set_index('Open Time')"
   ]
  },
  {
   "cell_type": "code",
   "execution_count": null,
   "id": "0636b37c-5ac2-499e-aa20-04523944e6b3",
   "metadata": {},
   "outputs": [],
   "source": [
    "# Display of Daily Bitcoin DF to use for TA and Machine Leaning\n",
    "display(btc_ohlcv_daily.head())\n",
    "display(btc_ohlcv_minute.tail())"
   ]
  },
  {
   "cell_type": "code",
   "execution_count": null,
   "id": "cb7672c9-a3b7-4fd6-ba1d-04d56e5d6e12",
   "metadata": {},
   "outputs": [],
   "source": [
    "\"\"\" Momentum Indicators for Bitcoin Minute Data\n",
    "make target column and features X\"\"\""
   ]
  },
  {
   "cell_type": "code",
   "execution_count": null,
   "id": "5fece688-3794-47e9-9b79-31f4e2b0d401",
   "metadata": {},
   "outputs": [],
   "source": [
    "# TA for btc minute data\n",
    "short_window=5\n",
    "long_window=50\n",
    "# get the actual minute % returns\n",
    "btc_ohlcv_minute[\"actual returns\"] = btc_ohlcv_minute[\"Close\"].pct_change().dropna()\n",
    "# Simple Moving Average(SMA)\n",
    "btc_ohlcv_minute['sma5'] = ta.sma(btc_ohlcv_minute[\"Close\"], short_window)\n",
    "btc_ohlcv_minute['sma50'] = ta.sma(btc_ohlcv_minute[\"Close\"], long_window)\n",
    "# Additional Technical Indicators\n",
    "# btc_ohlcv_minute['ssma'] = TA.SSMA(btc_ohlcv_minute)\n",
    "# btc_ohlcv_minute['ema'] = TA.EMA(btc_ohlcv_minute, 50)\n",
    "# btc_ohlcv_minute['dema'] = TA.DEMA(btc_ohlcv_minute)\n",
    "# btc_ohlcv_minute['tema'] = TA.TEMA(btc_ohlcv_minute)\n",
    "# btc_ohlcv_minute['trima'] = TA.TRIMA(btc_ohlcv_minute)\n",
    "btc_ohlcv_minute.dropna()"
   ]
  },
  {
   "cell_type": "code",
   "execution_count": null,
   "id": "b72be52a-4def-4d2d-bd68-0d6735a69743",
   "metadata": {},
   "outputs": [],
   "source": [
    "# Create a column to hold the trading signal \n",
    "btc_ohlcv_minute['Signal'] = 0.0\n",
    "\n",
    "\"\"\"First Simple Strategy for Longing a Bullish Market\n",
    "# Initializing signal column for either longing or shorting. 1 is when the short window SMA is greated than the Long Window SMA\n",
    "# 1 is short window > long, whereas 0 is when condition is not met \n",
    "\"\"\"\n",
    "btc_ohlcv_minute[\"Signal\"][short_window:] = np.where(\n",
    "    btc_ohlcv_minute['sma5'][short_window:] > btc_ohlcv_minute['sma50'][short_window:], 1.0, 0.0\n",
    ")\n",
    "\n",
    "# Find the CrossOver points using Diff()\n",
    "# Calculate the points in time when the Signal value changes\n",
    "# Identify trade entry(1) and exit (-1)\n",
    "# btc_ohlcv_minute[\"Entry/Exit\"] = btc_ohlcv_minute[\"Signal\"].diff()\n",
    "\n",
    "\n",
    "# REVIEW SIGNAL DF\n",
    "btc_ohlcv_minute"
   ]
  },
  {
   "cell_type": "code",
   "execution_count": null,
   "id": "842252b9-ea54-4dfb-b6d4-aff06cd4428e",
   "metadata": {},
   "outputs": [],
   "source": [
    "# # Visualize exit position relative to close price\n",
    "# exit = signals_df[signals_df['Entry/Exit'] == -1.0]['Close'].hvplot.scatter(\n",
    "#     color=’yellow',\n",
    "#     legend=False,\n",
    "#     ylabel='Price in $',\n",
    "#     width=1000,\n",
    "#     height=400)\n",
    "\n",
    "# # Show the plot\n",
    "# exit\n",
    "\n",
    "# # Visualize entry position relative to close price\n",
    "# entry = signals_df[signals_df['Entry/Exit'] == 1.0]['Close'].hvplot.scatter(\n",
    "#     color='purple',\n",
    "#     legend=False,\n",
    "#     ylabel='Price in $',\n",
    "#     width=1000,\n",
    "#     height=400)\n",
    "\n",
    "# # Show the plot\n",
    "# entry\n",
    "\n",
    "# # Visualize close price for the investment\n",
    "# security_close = signals_df[['Close']].hvplot(\n",
    "#     line_color='lightgray',\n",
    "#     ylabel='Price in $',\n",
    "#     width=1000,\n",
    "#     height=400)\n",
    "\n",
    "# # Show the plot\n",
    "# security_close\n",
    "\n",
    "# # Visualize moving averages\n",
    "# moving_avgs = signals_df[['SMA50', 'SMA100']].hvplot(\n",
    "#     ylabel='Price in $',\n",
    "#     width=1000,\n",
    "#     height=400)\n",
    "\n",
    "# # Show the plot\n",
    "# moving_avgs"
   ]
  },
  {
   "cell_type": "code",
   "execution_count": null,
   "id": "27c57e68-b2b4-4644-9fad-f6fbf76d2e62",
   "metadata": {},
   "outputs": [],
   "source": [
    "# RUn Back Testing"
   ]
  },
  {
   "cell_type": "code",
   "execution_count": null,
   "id": "7280078b-cdff-4159-9de9-50025ec8541d",
   "metadata": {},
   "outputs": [],
   "source": [
    "btc_ohlcv_minute.columns"
   ]
  },
  {
   "cell_type": "code",
   "execution_count": null,
   "id": "073359c4-20eb-4c6a-b118-5805af8650ef",
   "metadata": {},
   "outputs": [],
   "source": [
    "# Create target and features columns\n",
    "y = btc_ohlcv_minute['Signal']\n",
    "X = btc_ohlcv_minute[['sma5', 'sma50']].shift().dropna().copy()"
   ]
  },
  {
   "cell_type": "code",
   "execution_count": null,
   "id": "b36a92ee-c5ef-4d69-aaf9-4e39ea5bbb6f",
   "metadata": {},
   "outputs": [],
   "source": [
    "# CSV SAVER TOOL For Saving Bitcoin data to CSVs to use for Logisitc Regression model\n",
    "# btc_ohlcv_daily.to_csv('daily_btc_ohclv_2021', index=False)\n",
    "# btc_ohlcv_minute.to_csv('minute_btc_ohclv_5th_6th', index=False)"
   ]
  },
  {
   "cell_type": "code",
   "execution_count": null,
   "id": "8826d1ab-6b90-4cfa-ba62-dddb63a17a5f",
   "metadata": {},
   "outputs": [],
   "source": [
    "pip install --upgrade ta"
   ]
  },
  {
   "cell_type": "code",
   "execution_count": null,
   "id": "33be807c-1851-4505-ac61-0992152a60bf",
   "metadata": {},
   "outputs": [],
   "source": [
    "pip install pandas_ta"
   ]
  },
  {
   "cell_type": "code",
   "execution_count": null,
   "id": "647b9ac8-ab26-4b02-a432-0b6df9126632",
   "metadata": {},
   "outputs": [],
   "source": [
    "import pandas as pd\n",
    "from ta import add_all_ta_features\n",
    "from ta.utils import dropna\n",
    "import pandas_ta as ta\n",
    "from finta import TA"
   ]
  },
  {
   "cell_type": "code",
   "execution_count": null,
   "id": "8e4a465d-1a57-4322-b992-7f5cf49a2e66",
   "metadata": {},
   "outputs": [],
   "source": [
    "\"\"\" Trend Indicators for Bitcoin Daily Data\n",
    "make target column and features X\"\"\""
   ]
  },
  {
   "cell_type": "code",
   "execution_count": null,
   "id": "90568402-cb2c-45bd-bc7e-3920b1c3041c",
   "metadata": {},
   "outputs": [],
   "source": [
    "# TA for BTC Daily Data\n",
    "short_window=5\n",
    "long_window=50\n",
    "# Daily Returns\n",
    "btc_ohlcv_daily[\"actual returns\"] = btc_ohlcv_daily[\"Close\"].pct_change()\n",
    "btc_ohlcv_daily.dropna()\n",
    "# Simple Moving Average(SMA) short_window = 5, long window = 50\n",
    "btc_ohlcv_daily['sma5'] = ta.sma(btc_ohlcv_daily[\"Close\"], short_window)\n",
    "btc_ohlcv_daily['sma50'] = ta.sma(btc_ohlcv_daily[\"Close\"], long_window)\n",
    "# Additional Technical Indicators\n",
    "# btc_ohlcv_daily['ssma'] = TA.SSMA(btc_ohlcv_daily)\n",
    "# btc_ohlcv_daily['ema'] = TA.EMA(btc_ohlcv_daily, 50)\n",
    "# btc_ohlcv_daily['dema'] = TA.DEMA(btc_ohlcv_daily)\n",
    "# btc_ohlcv_daily['tema'] = TA.TEMA(btc_ohlcv_daily)\n",
    "# btc_ohlcv_daily['trima'] = TA.TRIMA(btc_ohlcv_daily)\n",
    "btc_ohlcv_daily.dropna()"
   ]
  },
  {
   "cell_type": "code",
   "execution_count": null,
   "id": "d011e2be-c738-40be-93d8-277107324c11",
   "metadata": {},
   "outputs": [],
   "source": [
    "# Create a column to hold the trading signal \n",
    "btc_ohlcv_daily['Signal'] = 0.0\n",
    "\n",
    "\"\"\"First Simple Strategy for Longing a Bullish Market\n",
    "# Initializing signal column for either longing or shorting. 1 is when the short window SMA is greated than the Long Window SMA\n",
    "# 1 is short window > long, whereas 0 is when condition is not met \n",
    "\"\"\"\n",
    "btc_ohlcv_daily[\"Signal\"][short_window:] = np.where(\n",
    "    btc_ohlcv_daily['sma5'][short_window:] > btc_ohlcv_daily['sma50'][short_window:], 1.0, 0.0\n",
    ")\n",
    "\n",
    "# Find the CrossOver points using Diff()\n",
    "# Calculate the points in time when the Signal value changes\n",
    "# Identify trade entry(1) and exit (-1)\n",
    "# btc_ohlcv_daily[\"Entry/Exit\"] = btc_ohlcv_daily[\"Signal\"].diff()\n",
    "\n",
    "\n",
    "# REVIEW SIGNAL DF\n",
    "btc_ohlcv_daily"
   ]
  },
  {
   "cell_type": "code",
   "execution_count": null,
   "id": "4122d9a4-ff5f-4adf-a929-fe994916bd51",
   "metadata": {},
   "outputs": [],
   "source": [
    "# Create target and features columns\n",
    "y = btc_ohlcv_daily['Signal']\n",
    "X = btc_ohlcv_daily[['sma5', 'sma50']].shift().dropna().copy()"
   ]
  },
  {
   "cell_type": "code",
   "execution_count": null,
   "id": "23fe1b5c-1306-4a8d-abfc-24d0c8c8783b",
   "metadata": {},
   "outputs": [],
   "source": [
    "btc_ohlcv_daily.head()"
   ]
  },
  {
   "cell_type": "code",
   "execution_count": null,
   "id": "bc815618-f58d-414f-b753-bfea3244dade",
   "metadata": {},
   "outputs": [],
   "source": [
    "# CSV SAVER TOOL For Saving Bitcoin data to CSVs to use for Logisitc Regression model\n",
    "btc_ohlcv_daily.to_csv('Data/daily_btc_logreg', index=False)\n",
    "btc_ohlcv_minute.to_csv('Data/min_btc_logreg', index=False)"
   ]
  },
  {
   "cell_type": "code",
   "execution_count": null,
   "id": "76d78e0a-70fe-48e1-a68b-08bed8417c28",
   "metadata": {},
   "outputs": [],
   "source": []
  }
 ],
 "metadata": {
  "kernelspec": {
   "display_name": "Python 3.7.10 64-bit ('dev': conda)",
   "language": "python",
   "name": "python3710jvsc74a57bd0e8921efeb3ecacfb7b11f420178d83f46d0ce73a066aba2d3365a3a8667101bc"
  },
  "language_info": {
   "codemirror_mode": {
    "name": "ipython",
    "version": 3
   },
   "file_extension": ".py",
   "mimetype": "text/x-python",
   "name": "python",
   "nbconvert_exporter": "python",
   "pygments_lexer": "ipython3",
   "version": "3.7.7"
  }
 },
 "nbformat": 4,
 "nbformat_minor": 5
}
