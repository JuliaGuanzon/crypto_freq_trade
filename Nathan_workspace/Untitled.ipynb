{
 "cells": [
  {
   "cell_type": "code",
   "execution_count": 1,
   "id": "6dd52c6a-083f-4414-9e4e-5dc137f27448",
   "metadata": {},
   "outputs": [],
   "source": [
    " # Machine Learning "
   ]
  },
  {
   "cell_type": "code",
   "execution_count": null,
   "id": "8b074f9b-d2d5-4a7b-a469-930ac84db4de",
   "metadata": {},
   "outputs": [],
   "source": []
  }
 ],
 "metadata": {
  "kernelspec": {
   "display_name": "Python 3.7.10 64-bit ('dev': conda)",
   "language": "python",
   "name": "python3710jvsc74a57bd0e8921efeb3ecacfb7b11f420178d83f46d0ce73a066aba2d3365a3a8667101bc"
  },
  "language_info": {
   "codemirror_mode": {
    "name": "ipython",
    "version": 3
   },
   "file_extension": ".py",
   "mimetype": "text/x-python",
   "name": "python",
   "nbconvert_exporter": "python",
   "pygments_lexer": "ipython3",
   "version": "3.7.7"
  }
 },
 "nbformat": 4,
 "nbformat_minor": 5
}
