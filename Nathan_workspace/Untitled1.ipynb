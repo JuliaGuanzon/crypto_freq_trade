{
 "cells": [
  {
   "cell_type": "code",
   "execution_count": 1,
   "id": "e6ee3e97-a0cd-441c-b980-592ab7347bfb",
   "metadata": {},
   "outputs": [
    {
     "ename": "SyntaxError",
     "evalue": "invalid syntax (<ipython-input-1-b480e096f9c0>, line 1)",
     "output_type": "error",
     "traceback": [
      "\u001b[0;36m  File \u001b[0;32m\"<ipython-input-1-b480e096f9c0>\"\u001b[0;36m, line \u001b[0;32m1\u001b[0m\n\u001b[0;31m    npm install dotenv\u001b[0m\n\u001b[0m              ^\u001b[0m\n\u001b[0;31mSyntaxError\u001b[0m\u001b[0;31m:\u001b[0m invalid syntax\n"
     ]
    }
   ],
   "source": [
    "metamask\n",
    "public_key = \"0xf9Dd67906aD0851aAc3274863F0f446F20D4Aba2\"\n",
    "super_private_key = \"5d869f18ffe844d3b87ec0151f8802ef8b6fd3468a975927ece2d8a1ce42d4de\""
   ]
  }
 ],
 "metadata": {
  "kernelspec": {
   "display_name": "Python 3.7.10 64-bit ('dev': conda)",
   "language": "python",
   "name": "python3710jvsc74a57bd0e8921efeb3ecacfb7b11f420178d83f46d0ce73a066aba2d3365a3a8667101bc"
  },
  "language_info": {
   "codemirror_mode": {
    "name": "ipython",
    "version": 3
   },
   "file_extension": ".py",
   "mimetype": "text/x-python",
   "name": "python",
   "nbconvert_exporter": "python",
   "pygments_lexer": "ipython3",
   "version": "3.7.7"
  }
 },
 "nbformat": 4,
 "nbformat_minor": 5
}
