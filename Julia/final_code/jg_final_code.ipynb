{
 "cells": [
  {
   "cell_type": "code",
   "execution_count": 46,
   "id": "e3b087e2-530f-4f6b-8267-fc269656ea13",
   "metadata": {},
   "outputs": [],
   "source": [
    "from binance import Client, ThreadedWebsocketManager, ThreadedDepthCacheManager\n",
    "import pandas as pd\n",
    "import mplfinance as mpl\n",
    "import mplfinance as mpf\n",
    "import os\n",
    "import json\n",
    "import requests\n",
    "from keras.models import Sequential\n",
    "from keras.layers import Activation, Dense, Dropout, LSTM\n",
    "import matplotlib.pyplot as plt\n",
    "import numpy as np\n",
    "from pathlib import Path\n",
    "import seaborn as sns\n",
    "from sklearn.metrics import mean_absolute_error\n",
    "%matplotlib inline"
   ]
  },
  {
   "cell_type": "code",
   "execution_count": 2,
   "id": "820e7f0d-1f73-4b5e-b922-abc088443269",
   "metadata": {},
   "outputs": [],
   "source": [
    "api_key = os.environ.get(\"api_key\")\n",
    "api_secret = os.environ.get(\"api_secret\")"
   ]
  },
  {
   "cell_type": "code",
   "execution_count": 3,
   "id": "19d7da9c-d242-42d5-8ddd-6807e2ea2284",
   "metadata": {},
   "outputs": [],
   "source": [
    "client = Client(api_key, api_secret)"
   ]
  },
  {
   "cell_type": "code",
   "execution_count": 4,
   "id": "b3676348-7587-441e-b623-45a1532e7059",
   "metadata": {},
   "outputs": [],
   "source": [
    "tickers = client.get_all_tickers()"
   ]
  },
  {
   "cell_type": "code",
   "execution_count": 5,
   "id": "c02c1677-5f1d-4f57-aaef-34016e4e66a1",
   "metadata": {},
   "outputs": [],
   "source": [
    "ticker_df = pd.DataFrame(tickers)"
   ]
  },
  {
   "cell_type": "code",
   "execution_count": 6,
   "id": "10f8f959-0643-4d4e-932a-ac229402795b",
   "metadata": {},
   "outputs": [],
   "source": [
    "ticker_df.set_index('symbol', inplace=True)"
   ]
  },
  {
   "cell_type": "code",
   "execution_count": 7,
   "id": "8996fb20-9527-4c6b-b985-2a31b2b93404",
   "metadata": {},
   "outputs": [
    {
     "data": {
      "text/plain": [
       "3599.18"
      ]
     },
     "metadata": {},
     "output_type": "display_data"
    },
    {
     "data": {
      "text/plain": [
       "54916.61"
      ]
     },
     "metadata": {},
     "output_type": "display_data"
    }
   ],
   "source": [
    "display(float(ticker_df.loc['ETHUSDC']['price']))\n",
    "display(float(ticker_df.loc['BTCUSDT']['price']))"
   ]
  },
  {
   "cell_type": "code",
   "execution_count": 8,
   "id": "126f6226-a441-487d-a42a-7dd8039bcaae",
   "metadata": {},
   "outputs": [],
   "source": [
    "depth = client.get_order_book(symbol='BTCUSDT')"
   ]
  },
  {
   "cell_type": "code",
   "execution_count": 9,
   "id": "26ea514f-5ad0-43df-8af3-677cb160c590",
   "metadata": {},
   "outputs": [
    {
     "data": {
      "text/html": [
       "<div>\n",
       "<style scoped>\n",
       "    .dataframe tbody tr th:only-of-type {\n",
       "        vertical-align: middle;\n",
       "    }\n",
       "\n",
       "    .dataframe tbody tr th {\n",
       "        vertical-align: top;\n",
       "    }\n",
       "\n",
       "    .dataframe thead th {\n",
       "        text-align: right;\n",
       "    }\n",
       "</style>\n",
       "<table border=\"1\" class=\"dataframe\">\n",
       "  <thead>\n",
       "    <tr style=\"text-align: right;\">\n",
       "      <th></th>\n",
       "      <th>Price</th>\n",
       "      <th>Volume</th>\n",
       "    </tr>\n",
       "  </thead>\n",
       "  <tbody>\n",
       "    <tr>\n",
       "      <th>0</th>\n",
       "      <td>54922.16000000</td>\n",
       "      <td>1.32858000</td>\n",
       "    </tr>\n",
       "    <tr>\n",
       "      <th>1</th>\n",
       "      <td>54923.66000000</td>\n",
       "      <td>0.05675000</td>\n",
       "    </tr>\n",
       "    <tr>\n",
       "      <th>2</th>\n",
       "      <td>54923.91000000</td>\n",
       "      <td>0.07101000</td>\n",
       "    </tr>\n",
       "    <tr>\n",
       "      <th>3</th>\n",
       "      <td>54925.47000000</td>\n",
       "      <td>0.04625000</td>\n",
       "    </tr>\n",
       "    <tr>\n",
       "      <th>4</th>\n",
       "      <td>54926.14000000</td>\n",
       "      <td>0.05156000</td>\n",
       "    </tr>\n",
       "  </tbody>\n",
       "</table>\n",
       "</div>"
      ],
      "text/plain": [
       "            Price      Volume\n",
       "0  54922.16000000  1.32858000\n",
       "1  54923.66000000  0.05675000\n",
       "2  54923.91000000  0.07101000\n",
       "3  54925.47000000  0.04625000\n",
       "4  54926.14000000  0.05156000"
      ]
     },
     "execution_count": 9,
     "metadata": {},
     "output_type": "execute_result"
    }
   ],
   "source": [
    "depth_df = pd.DataFrame(depth['asks'])\n",
    "depth_df.columns = ['Price', 'Volume']\n",
    "depth_df.head()"
   ]
  },
  {
   "cell_type": "code",
   "execution_count": 16,
   "id": "314f4b71-58e8-4bd5-bd83-b4011ce13763",
   "metadata": {},
   "outputs": [],
   "source": [
    "btc_daily_data = client.get_historical_klines('BTCUSDC', Client.KLINE_INTERVAL_1DAY, '1 Jan 2021')"
   ]
  },
  {
   "cell_type": "code",
   "execution_count": 17,
   "id": "582bdf99-4a30-4a1e-988b-f4a53e6937b3",
   "metadata": {},
   "outputs": [],
   "source": [
    "btc_daily_df = pd.DataFrame(btc_daily_data)\n",
    "btc_daily_df.columns = ['Open Time', 'Open', 'High', 'Low', 'Close', 'Volume', 'Close Time', 'Quote Asset Volume', \n",
    "                    'Number of Trades', 'TB Base Volume', 'TB Quote Volume', 'Ignore']"
   ]
  },
  {
   "cell_type": "code",
   "execution_count": 18,
   "id": "0fbbbc86-f30f-4019-a959-7523f5632c45",
   "metadata": {},
   "outputs": [],
   "source": [
    "btc_daily_df['Open Time'] = pd.to_datetime(btc_daily_df['Open Time']/1000, unit='s')\n",
    "btc_daily_df['Close Time'] = pd.to_datetime(btc_daily_df['Close Time']/1000, unit='s')"
   ]
  },
  {
   "cell_type": "code",
   "execution_count": 20,
   "id": "94df7dde-0269-4fd0-b18a-85a8af41eccf",
   "metadata": {},
   "outputs": [],
   "source": [
    "numeric_columns = ['Open', 'High', 'Low', 'Close', 'Volume', 'Quote Asset Volume', 'TB Base Volume', 'TB Quote Volume']\n",
    "btc_daily_df[numeric_columns] = btc_daily_df[numeric_columns].apply(pd.to_numeric, axis=1)"
   ]
  },
  {
   "cell_type": "code",
   "execution_count": 23,
   "id": "627b1407-d3e9-47c4-b563-2bf62b8f42e8",
   "metadata": {},
   "outputs": [
    {
     "data": {
      "text/html": [
       "<div>\n",
       "<style scoped>\n",
       "    .dataframe tbody tr th:only-of-type {\n",
       "        vertical-align: middle;\n",
       "    }\n",
       "\n",
       "    .dataframe tbody tr th {\n",
       "        vertical-align: top;\n",
       "    }\n",
       "\n",
       "    .dataframe thead th {\n",
       "        text-align: right;\n",
       "    }\n",
       "</style>\n",
       "<table border=\"1\" class=\"dataframe\">\n",
       "  <thead>\n",
       "    <tr style=\"text-align: right;\">\n",
       "      <th></th>\n",
       "      <th>Open</th>\n",
       "      <th>High</th>\n",
       "      <th>Low</th>\n",
       "      <th>Close</th>\n",
       "      <th>Volume</th>\n",
       "    </tr>\n",
       "    <tr>\n",
       "      <th>Open Time</th>\n",
       "      <th></th>\n",
       "      <th></th>\n",
       "      <th></th>\n",
       "      <th></th>\n",
       "      <th></th>\n",
       "    </tr>\n",
       "  </thead>\n",
       "  <tbody>\n",
       "    <tr>\n",
       "      <th>2021-01-01</th>\n",
       "      <td>28964.54</td>\n",
       "      <td>29680.00</td>\n",
       "      <td>28608.73</td>\n",
       "      <td>29407.93</td>\n",
       "      <td>1736.620480</td>\n",
       "    </tr>\n",
       "    <tr>\n",
       "      <th>2021-01-02</th>\n",
       "      <td>29393.99</td>\n",
       "      <td>33500.00</td>\n",
       "      <td>29027.03</td>\n",
       "      <td>32215.18</td>\n",
       "      <td>4227.234681</td>\n",
       "    </tr>\n",
       "    <tr>\n",
       "      <th>2021-01-03</th>\n",
       "      <td>32216.13</td>\n",
       "      <td>34851.30</td>\n",
       "      <td>32002.65</td>\n",
       "      <td>33033.26</td>\n",
       "      <td>3523.881120</td>\n",
       "    </tr>\n",
       "    <tr>\n",
       "      <th>2021-01-04</th>\n",
       "      <td>33040.00</td>\n",
       "      <td>33648.27</td>\n",
       "      <td>28000.00</td>\n",
       "      <td>32017.58</td>\n",
       "      <td>4218.572357</td>\n",
       "    </tr>\n",
       "    <tr>\n",
       "      <th>2021-01-05</th>\n",
       "      <td>32027.11</td>\n",
       "      <td>34498.00</td>\n",
       "      <td>29882.30</td>\n",
       "      <td>34059.70</td>\n",
       "      <td>3150.244271</td>\n",
       "    </tr>\n",
       "    <tr>\n",
       "      <th>...</th>\n",
       "      <td>...</td>\n",
       "      <td>...</td>\n",
       "      <td>...</td>\n",
       "      <td>...</td>\n",
       "      <td>...</td>\n",
       "    </tr>\n",
       "    <tr>\n",
       "      <th>2021-10-05</th>\n",
       "      <td>49252.59</td>\n",
       "      <td>51921.46</td>\n",
       "      <td>49057.36</td>\n",
       "      <td>51488.94</td>\n",
       "      <td>1382.533040</td>\n",
       "    </tr>\n",
       "    <tr>\n",
       "      <th>2021-10-06</th>\n",
       "      <td>51502.83</td>\n",
       "      <td>55794.07</td>\n",
       "      <td>50408.96</td>\n",
       "      <td>55330.92</td>\n",
       "      <td>2133.377701</td>\n",
       "    </tr>\n",
       "    <tr>\n",
       "      <th>2021-10-07</th>\n",
       "      <td>55332.46</td>\n",
       "      <td>55352.49</td>\n",
       "      <td>53392.38</td>\n",
       "      <td>53767.81</td>\n",
       "      <td>1434.183730</td>\n",
       "    </tr>\n",
       "    <tr>\n",
       "      <th>2021-10-08</th>\n",
       "      <td>53788.03</td>\n",
       "      <td>56150.90</td>\n",
       "      <td>53627.77</td>\n",
       "      <td>53918.86</td>\n",
       "      <td>1285.581965</td>\n",
       "    </tr>\n",
       "    <tr>\n",
       "      <th>2021-10-09</th>\n",
       "      <td>53953.98</td>\n",
       "      <td>55500.00</td>\n",
       "      <td>53684.22</td>\n",
       "      <td>54934.95</td>\n",
       "      <td>904.563490</td>\n",
       "    </tr>\n",
       "  </tbody>\n",
       "</table>\n",
       "<p>282 rows × 5 columns</p>\n",
       "</div>"
      ],
      "text/plain": [
       "                Open      High       Low     Close       Volume\n",
       "Open Time                                                      \n",
       "2021-01-01  28964.54  29680.00  28608.73  29407.93  1736.620480\n",
       "2021-01-02  29393.99  33500.00  29027.03  32215.18  4227.234681\n",
       "2021-01-03  32216.13  34851.30  32002.65  33033.26  3523.881120\n",
       "2021-01-04  33040.00  33648.27  28000.00  32017.58  4218.572357\n",
       "2021-01-05  32027.11  34498.00  29882.30  34059.70  3150.244271\n",
       "...              ...       ...       ...       ...          ...\n",
       "2021-10-05  49252.59  51921.46  49057.36  51488.94  1382.533040\n",
       "2021-10-06  51502.83  55794.07  50408.96  55330.92  2133.377701\n",
       "2021-10-07  55332.46  55352.49  53392.38  53767.81  1434.183730\n",
       "2021-10-08  53788.03  56150.90  53627.77  53918.86  1285.581965\n",
       "2021-10-09  53953.98  55500.00  53684.22  54934.95   904.563490\n",
       "\n",
       "[282 rows x 5 columns]"
      ]
     },
     "execution_count": 23,
     "metadata": {},
     "output_type": "execute_result"
    }
   ],
   "source": [
    "btc_ohlcv_daily = btc_daily_df.iloc[:,0:6]\n",
    "btc_ohlcv_daily = btc_ohlcv_daily.set_index('Open Time')\n",
    "btc_ohlcv_daily"
   ]
  },
  {
   "cell_type": "code",
   "execution_count": 83,
   "id": "4faac810-dedb-4943-8516-e0bd1915a443",
   "metadata": {},
   "outputs": [],
   "source": [
    "btc_ohlcv_daily.to_csv(\"final_code/Resources/daily_btc_ohclv_2021.csv\")"
   ]
  },
  {
   "cell_type": "code",
   "execution_count": 67,
   "id": "bd684650-fa39-4f72-ab73-11f8ff96de40",
   "metadata": {},
   "outputs": [],
   "source": [
    "historical_minute = client.get_historical_klines('BTCUSDC', Client.KLINE_INTERVAL_1MINUTE, '5 day ago UTC')"
   ]
  },
  {
   "cell_type": "code",
   "execution_count": 68,
   "id": "ede5e7d3-9cef-46fc-af64-ec9295672615",
   "metadata": {},
   "outputs": [],
   "source": [
    "hist_min = pd.DataFrame(historical_minute)"
   ]
  },
  {
   "cell_type": "code",
   "execution_count": 69,
   "id": "74d85e44-0c5d-42b0-b81f-bec854b776ed",
   "metadata": {},
   "outputs": [],
   "source": [
    "hist_min.columns = ['Open Time', 'Open', 'High', 'Low', 'Close', 'Volume', 'Close Time', 'Quote Asset Volume', \n",
    "                    'Number of Trades', 'TB Base Volume', 'TB Quote Volume', 'Ignore']"
   ]
  },
  {
   "cell_type": "code",
   "execution_count": 70,
   "id": "0f38de4b-44b7-4413-b5e3-5ab1247edc7d",
   "metadata": {},
   "outputs": [],
   "source": [
    "hist_min['Open Time'] = pd.to_datetime(hist_min['Open Time']/1000, unit='s')\n",
    "hist_min['Close Time'] = pd.to_datetime(hist_min['Close Time']/1000, unit='s')\n"
   ]
  },
  {
   "cell_type": "code",
   "execution_count": 73,
   "id": "f394022f-126d-40f4-ac40-77d5694200b3",
   "metadata": {},
   "outputs": [],
   "source": [
    "numeric_columns = ['Open', 'High', 'Low', 'Close', 'Volume', 'Quote Asset Volume', 'TB Base Volume', 'TB Quote Volume']\n",
    "hist_min[numeric_columns] = hist_min[numeric_columns].apply(pd.to_numeric, axis=1)"
   ]
  },
  {
   "cell_type": "code",
   "execution_count": 76,
   "id": "c54b09a6-c32f-42fd-8bd9-a75ffd2c11f6",
   "metadata": {},
   "outputs": [
    {
     "data": {
      "text/html": [
       "<div>\n",
       "<style scoped>\n",
       "    .dataframe tbody tr th:only-of-type {\n",
       "        vertical-align: middle;\n",
       "    }\n",
       "\n",
       "    .dataframe tbody tr th {\n",
       "        vertical-align: top;\n",
       "    }\n",
       "\n",
       "    .dataframe thead th {\n",
       "        text-align: right;\n",
       "    }\n",
       "</style>\n",
       "<table border=\"1\" class=\"dataframe\">\n",
       "  <thead>\n",
       "    <tr style=\"text-align: right;\">\n",
       "      <th></th>\n",
       "      <th>Open</th>\n",
       "      <th>High</th>\n",
       "      <th>Low</th>\n",
       "      <th>Close</th>\n",
       "      <th>Volume</th>\n",
       "    </tr>\n",
       "    <tr>\n",
       "      <th>Open Time</th>\n",
       "      <th></th>\n",
       "      <th></th>\n",
       "      <th></th>\n",
       "      <th></th>\n",
       "      <th></th>\n",
       "    </tr>\n",
       "  </thead>\n",
       "  <tbody>\n",
       "    <tr>\n",
       "      <th>2021-10-04 18:11:00</th>\n",
       "      <td>49277.81</td>\n",
       "      <td>49300.00</td>\n",
       "      <td>49231.38</td>\n",
       "      <td>49251.86</td>\n",
       "      <td>2.06374</td>\n",
       "    </tr>\n",
       "    <tr>\n",
       "      <th>2021-10-04 18:12:00</th>\n",
       "      <td>49246.15</td>\n",
       "      <td>49263.76</td>\n",
       "      <td>49200.90</td>\n",
       "      <td>49200.90</td>\n",
       "      <td>1.88979</td>\n",
       "    </tr>\n",
       "    <tr>\n",
       "      <th>2021-10-04 18:13:00</th>\n",
       "      <td>49207.29</td>\n",
       "      <td>49207.29</td>\n",
       "      <td>49124.88</td>\n",
       "      <td>49124.88</td>\n",
       "      <td>0.73246</td>\n",
       "    </tr>\n",
       "    <tr>\n",
       "      <th>2021-10-04 18:14:00</th>\n",
       "      <td>49144.35</td>\n",
       "      <td>49191.25</td>\n",
       "      <td>49144.35</td>\n",
       "      <td>49156.88</td>\n",
       "      <td>0.85816</td>\n",
       "    </tr>\n",
       "    <tr>\n",
       "      <th>2021-10-04 18:15:00</th>\n",
       "      <td>49155.24</td>\n",
       "      <td>49248.09</td>\n",
       "      <td>49155.24</td>\n",
       "      <td>49213.61</td>\n",
       "      <td>0.54169</td>\n",
       "    </tr>\n",
       "    <tr>\n",
       "      <th>...</th>\n",
       "      <td>...</td>\n",
       "      <td>...</td>\n",
       "      <td>...</td>\n",
       "      <td>...</td>\n",
       "      <td>...</td>\n",
       "    </tr>\n",
       "    <tr>\n",
       "      <th>2021-10-09 18:06:00</th>\n",
       "      <td>54903.26</td>\n",
       "      <td>54904.36</td>\n",
       "      <td>54894.28</td>\n",
       "      <td>54894.28</td>\n",
       "      <td>0.50955</td>\n",
       "    </tr>\n",
       "    <tr>\n",
       "      <th>2021-10-09 18:07:00</th>\n",
       "      <td>54887.08</td>\n",
       "      <td>54887.08</td>\n",
       "      <td>54861.78</td>\n",
       "      <td>54861.87</td>\n",
       "      <td>0.16138</td>\n",
       "    </tr>\n",
       "    <tr>\n",
       "      <th>2021-10-09 18:08:00</th>\n",
       "      <td>54861.33</td>\n",
       "      <td>54893.31</td>\n",
       "      <td>54861.33</td>\n",
       "      <td>54880.06</td>\n",
       "      <td>0.17581</td>\n",
       "    </tr>\n",
       "    <tr>\n",
       "      <th>2021-10-09 18:09:00</th>\n",
       "      <td>54889.43</td>\n",
       "      <td>54894.33</td>\n",
       "      <td>54872.27</td>\n",
       "      <td>54872.27</td>\n",
       "      <td>0.06791</td>\n",
       "    </tr>\n",
       "    <tr>\n",
       "      <th>2021-10-09 18:10:00</th>\n",
       "      <td>54880.14</td>\n",
       "      <td>54880.14</td>\n",
       "      <td>54880.14</td>\n",
       "      <td>54880.14</td>\n",
       "      <td>0.00020</td>\n",
       "    </tr>\n",
       "  </tbody>\n",
       "</table>\n",
       "<p>7200 rows × 5 columns</p>\n",
       "</div>"
      ],
      "text/plain": [
       "                         Open      High       Low     Close   Volume\n",
       "Open Time                                                           \n",
       "2021-10-04 18:11:00  49277.81  49300.00  49231.38  49251.86  2.06374\n",
       "2021-10-04 18:12:00  49246.15  49263.76  49200.90  49200.90  1.88979\n",
       "2021-10-04 18:13:00  49207.29  49207.29  49124.88  49124.88  0.73246\n",
       "2021-10-04 18:14:00  49144.35  49191.25  49144.35  49156.88  0.85816\n",
       "2021-10-04 18:15:00  49155.24  49248.09  49155.24  49213.61  0.54169\n",
       "...                       ...       ...       ...       ...      ...\n",
       "2021-10-09 18:06:00  54903.26  54904.36  54894.28  54894.28  0.50955\n",
       "2021-10-09 18:07:00  54887.08  54887.08  54861.78  54861.87  0.16138\n",
       "2021-10-09 18:08:00  54861.33  54893.31  54861.33  54880.06  0.17581\n",
       "2021-10-09 18:09:00  54889.43  54894.33  54872.27  54872.27  0.06791\n",
       "2021-10-09 18:10:00  54880.14  54880.14  54880.14  54880.14  0.00020\n",
       "\n",
       "[7200 rows x 5 columns]"
      ]
     },
     "execution_count": 76,
     "metadata": {},
     "output_type": "execute_result"
    }
   ],
   "source": [
    "btc_ohlcv_minute = hist_min.iloc[:,0:6]\n",
    "btc_ohlcv_minute = btc_ohlcv_minute.set_index('Open Time')\n",
    "btc_ohlcv_minute"
   ]
  },
  {
   "cell_type": "code",
   "execution_count": 77,
   "id": "a1e73c4c-2e2c-4b91-9352-192488afe79d",
   "metadata": {},
   "outputs": [],
   "source": [
    "btc_ohlcv_minute.to_csv(\"final_code/Resources/minute_btc_ohclv_2021.csv\", index=False)"
   ]
  },
  {
   "cell_type": "code",
   "execution_count": 78,
   "id": "e8780dd4-e0a8-458e-85a4-87095f066d80",
   "metadata": {},
   "outputs": [
    {
     "data": {
      "text/plain": [
       "'C:\\\\Users\\\\julia\\\\OneDrive\\\\Desktop\\\\FinTech\\\\Projects\\\\crypto_freq_trade\\\\Julia'"
      ]
     },
     "execution_count": 78,
     "metadata": {},
     "output_type": "execute_result"
    }
   ],
   "source": [
    "pwd"
   ]
  },
  {
   "cell_type": "code",
   "execution_count": 86,
   "id": "e01ec890-e2a0-4b55-961e-26f2ae9dfca4",
   "metadata": {},
   "outputs": [],
   "source": [
    "btc_df = pd.read_csv(Path(\"final_code/Resources/daily_btc_ohclv_2021.csv\"), \n",
    "                     index_col= \"Open Time\")\n",
    "target_col = 'Close'"
   ]
  },
  {
   "cell_type": "code",
   "execution_count": 87,
   "id": "2ef65bf1-70a1-4d1e-a178-143a5f793b0b",
   "metadata": {},
   "outputs": [
    {
     "data": {
      "text/html": [
       "<div>\n",
       "<style scoped>\n",
       "    .dataframe tbody tr th:only-of-type {\n",
       "        vertical-align: middle;\n",
       "    }\n",
       "\n",
       "    .dataframe tbody tr th {\n",
       "        vertical-align: top;\n",
       "    }\n",
       "\n",
       "    .dataframe thead th {\n",
       "        text-align: right;\n",
       "    }\n",
       "</style>\n",
       "<table border=\"1\" class=\"dataframe\">\n",
       "  <thead>\n",
       "    <tr style=\"text-align: right;\">\n",
       "      <th></th>\n",
       "      <th>Open</th>\n",
       "      <th>High</th>\n",
       "      <th>Low</th>\n",
       "      <th>Close</th>\n",
       "      <th>Volume</th>\n",
       "    </tr>\n",
       "    <tr>\n",
       "      <th>Open Time</th>\n",
       "      <th></th>\n",
       "      <th></th>\n",
       "      <th></th>\n",
       "      <th></th>\n",
       "      <th></th>\n",
       "    </tr>\n",
       "  </thead>\n",
       "  <tbody>\n",
       "    <tr>\n",
       "      <th>2021-01-01</th>\n",
       "      <td>28964.54</td>\n",
       "      <td>29680.00</td>\n",
       "      <td>28608.73</td>\n",
       "      <td>29407.93</td>\n",
       "      <td>1736.620480</td>\n",
       "    </tr>\n",
       "    <tr>\n",
       "      <th>2021-01-02</th>\n",
       "      <td>29393.99</td>\n",
       "      <td>33500.00</td>\n",
       "      <td>29027.03</td>\n",
       "      <td>32215.18</td>\n",
       "      <td>4227.234681</td>\n",
       "    </tr>\n",
       "    <tr>\n",
       "      <th>2021-01-03</th>\n",
       "      <td>32216.13</td>\n",
       "      <td>34851.30</td>\n",
       "      <td>32002.65</td>\n",
       "      <td>33033.26</td>\n",
       "      <td>3523.881120</td>\n",
       "    </tr>\n",
       "    <tr>\n",
       "      <th>2021-01-04</th>\n",
       "      <td>33040.00</td>\n",
       "      <td>33648.27</td>\n",
       "      <td>28000.00</td>\n",
       "      <td>32017.58</td>\n",
       "      <td>4218.572357</td>\n",
       "    </tr>\n",
       "    <tr>\n",
       "      <th>2021-01-05</th>\n",
       "      <td>32027.11</td>\n",
       "      <td>34498.00</td>\n",
       "      <td>29882.30</td>\n",
       "      <td>34059.70</td>\n",
       "      <td>3150.244271</td>\n",
       "    </tr>\n",
       "  </tbody>\n",
       "</table>\n",
       "</div>"
      ],
      "text/plain": [
       "                Open      High       Low     Close       Volume\n",
       "Open Time                                                      \n",
       "2021-01-01  28964.54  29680.00  28608.73  29407.93  1736.620480\n",
       "2021-01-02  29393.99  33500.00  29027.03  32215.18  4227.234681\n",
       "2021-01-03  32216.13  34851.30  32002.65  33033.26  3523.881120\n",
       "2021-01-04  33040.00  33648.27  28000.00  32017.58  4218.572357\n",
       "2021-01-05  32027.11  34498.00  29882.30  34059.70  3150.244271"
      ]
     },
     "execution_count": 87,
     "metadata": {},
     "output_type": "execute_result"
    }
   ],
   "source": [
    "btc_df.head()"
   ]
  },
  {
   "cell_type": "code",
   "execution_count": 112,
   "id": "fdbe215d-7bdf-44f3-b614-ff94fe1a0b76",
   "metadata": {},
   "outputs": [],
   "source": [
    "def train_test_split(btc_df, test_size=0.2):\n",
    "  split_row = len(btc_df) - int(test_size * len(btc_df))\n",
    "  train_data = btc_df.iloc[:split_row]\n",
    "  test_data = btc_df.iloc[split_row:]\n",
    "  return train_data, test_data\n",
    "\n",
    "train, test = train_test_split(btc_df, test_size=0.2)"
   ]
  },
  {
   "cell_type": "code",
   "execution_count": 126,
   "id": "5ceab798-eedd-469f-9758-a60d3f81b11f",
   "metadata": {},
   "outputs": [
    {
     "data": {
      "image/png": "[encoded data removed]",
      "text/plain": [
       "<Figure size 1440x504 with 1 Axes>"
      ]
     },
     "metadata": {
      "needs_background": "light"
     },
     "output_type": "display_data"
    }
   ],
   "source": [
    "def line_plot(line1, line2, label1=None, label2=None, title='', lw=2):\n",
    "    fig, ax = plt.subplots(1, figsize=(20, 7))\n",
    "    ax.plot(line1, label=label1, linewidth=lw)\n",
    "    ax.plot(line2, label=label2, linewidth=lw)\n",
    "    ax.set_ylabel('price [USD]', fontsize=14)\n",
    "    ax.set_title(title, fontsize=16)\n",
    "    ax.legend(loc='best', fontsize=16)\n",
    "\n",
    "line_plot(train[target_col], test[target_col], 'training', 'test', title='BTC 2021 to Current Day Predictions')"
   ]
  },
  {
   "cell_type": "code",
   "execution_count": 114,
   "id": "a193ee08-b25f-43e4-96cb-361936315364",
   "metadata": {},
   "outputs": [],
   "source": [
    "def normalise_zero_base(df):\n",
    "    return df / df.iloc[0] - 1\n",
    "\n",
    "def normalise_min_max(df):\n",
    "    return (df - df.min()) / (data.max() - df.min())"
   ]
  },
  {
   "cell_type": "code",
   "execution_count": 115,
   "id": "914b1adf-6223-4008-adea-eb64f45f91ae",
   "metadata": {},
   "outputs": [],
   "source": [
    "def extract_window_data(btc_df, window_len=5, zero_base=True):\n",
    "    window_data = []\n",
    "    for idx in range(len(btc_df) - window_len):\n",
    "        tmp = btc_df[idx: (idx + window_len)].copy()\n",
    "        if zero_base:\n",
    "            tmp = normalise_zero_base(tmp)\n",
    "        window_data.append(tmp.values)\n",
    "    return np.array(window_data)"
   ]
  },
  {
   "cell_type": "code",
   "execution_count": 116,
   "id": "a14625ab-7669-40d7-b190-b04307f7900e",
   "metadata": {},
   "outputs": [],
   "source": [
    "def prepare_data(btc_df, target_col, window_len=10, zero_base=True, test_size=0.2):\n",
    "    train_data, test_data = train_test_split(btc_df, test_size=test_size)\n",
    "    X_train = extract_window_data(train_data, window_len, zero_base)\n",
    "    X_test = extract_window_data(test_data, window_len, zero_base)\n",
    "    y_train = train_data[target_col][window_len:].values\n",
    "    y_test = test_data[target_col][window_len:].values\n",
    "    if zero_base:\n",
    "        y_train = y_train / train_data[target_col][:-window_len].values - 1\n",
    "        y_test = y_test / test_data[target_col][:-window_len].values - 1\n",
    "\n",
    "    return train_data, test_data, X_train, X_test, y_train, y_test"
   ]
  },
  {
   "cell_type": "code",
   "execution_count": 117,
   "id": "0aec7d56-695f-412b-a2b1-2c80f3518e4b",
   "metadata": {},
   "outputs": [],
   "source": [
    "def build_lstm_model(input_data, output_size, neurons=100, activ_func='linear', dropout=0.2, loss='mse', optimizer='adam'):\n",
    "    model = Sequential()\n",
    "    model.add(LSTM(neurons, input_shape=(input_data.shape[1], input_data.shape[2])))\n",
    "    model.add(Dropout(dropout))\n",
    "    model.add(Dense(units=output_size))\n",
    "    model.add(Activation(activ_func))\n",
    "    model.compile(loss=loss, optimizer=optimizer)\n",
    "    return model"
   ]
  },
  {
   "cell_type": "code",
   "execution_count": 118,
   "id": "4412e9a4-f819-4c19-b7c8-7843dfd26148",
   "metadata": {},
   "outputs": [],
   "source": [
    "np.random.seed(42)\n",
    "window_len = 5\n",
    "test_size = 0.2\n",
    "zero_base = True\n",
    "lstm_neurons = 100\n",
    "epochs = 20\n",
    "batch_size = 32\n",
    "loss = 'mse'\n",
    "dropout = 0.2\n",
    "optimizer = 'adam'"
   ]
  },
  {
   "cell_type": "code",
   "execution_count": 119,
   "id": "d8d5bea5-72b5-4f05-a512-404b03c115f0",
   "metadata": {},
   "outputs": [
    {
     "name": "stdout",
     "output_type": "stream",
     "text": [
      "Epoch 1/20\n",
      "7/7 [==============================] - 3s 11ms/step - loss: 0.0106\n",
      "Epoch 2/20\n",
      "7/7 [==============================] - 0s 9ms/step - loss: 0.0075\n",
      "Epoch 3/20\n",
      "7/7 [==============================] - 0s 9ms/step - loss: 0.0061\n",
      "Epoch 4/20\n",
      "7/7 [==============================] - 0s 10ms/step - loss: 0.0051\n",
      "Epoch 5/20\n",
      "7/7 [==============================] - 0s 10ms/step - loss: 0.0044\n",
      "Epoch 6/20\n",
      "7/7 [==============================] - 0s 9ms/step - loss: 0.0045\n",
      "Epoch 7/20\n",
      "7/7 [==============================] - 0s 9ms/step - loss: 0.0043\n",
      "Epoch 8/20\n",
      "7/7 [==============================] - 0s 9ms/step - loss: 0.0039\n",
      "Epoch 9/20\n",
      "7/7 [==============================] - 0s 9ms/step - loss: 0.0038\n",
      "Epoch 10/20\n",
      "7/7 [==============================] - 0s 8ms/step - loss: 0.0039\n",
      "Epoch 11/20\n",
      "7/7 [==============================] - 0s 9ms/step - loss: 0.0036\n",
      "Epoch 12/20\n",
      "7/7 [==============================] - 0s 9ms/step - loss: 0.0039\n",
      "Epoch 13/20\n",
      "7/7 [==============================] - 0s 9ms/step - loss: 0.0035\n",
      "Epoch 14/20\n",
      "7/7 [==============================] - 0s 8ms/step - loss: 0.0037\n",
      "Epoch 15/20\n",
      "7/7 [==============================] - 0s 10ms/step - loss: 0.0032\n",
      "Epoch 16/20\n",
      "7/7 [==============================] - 0s 9ms/step - loss: 0.0032\n",
      "Epoch 17/20\n",
      "7/7 [==============================] - 0s 10ms/step - loss: 0.0032\n",
      "Epoch 18/20\n",
      "7/7 [==============================] - 0s 8ms/step - loss: 0.0034\n",
      "Epoch 19/20\n",
      "7/7 [==============================] - 0s 10ms/step - loss: 0.0031\n",
      "Epoch 20/20\n",
      "7/7 [==============================] - 0s 8ms/step - loss: 0.0032\n"
     ]
    }
   ],
   "source": [
    "train, test, X_train, X_test, y_train, y_test = prepare_data(\n",
    "    btc_df, target_col, window_len=window_len, zero_base=zero_base, test_size=test_size)\n",
    "model = build_lstm_model(\n",
    "    X_train, output_size=1, neurons=lstm_neurons, dropout=dropout, loss=loss,\n",
    "    optimizer=optimizer)\n",
    "history = model.fit(\n",
    "    X_train, y_train, epochs=epochs, batch_size=batch_size, verbose=1, shuffle=True)"
   ]
  },
  {
   "cell_type": "code",
   "execution_count": 120,
   "id": "6a3708e2-94a7-42a2-8d8b-dac945e777f7",
   "metadata": {},
   "outputs": [
    {
     "data": {
      "text/plain": [
       "0.036283382440145805"
      ]
     },
     "execution_count": 120,
     "metadata": {},
     "output_type": "execute_result"
    }
   ],
   "source": [
    "targets = test[target_col][window_len:]\n",
    "preds = model.predict(X_test).squeeze()\n",
    "mean_absolute_error(preds, y_test)"
   ]
  },
  {
   "cell_type": "code",
   "execution_count": 121,
   "id": "81e0eed1-b117-4706-9920-be30078a6348",
   "metadata": {},
   "outputs": [
    {
     "data": {
      "image/png": "[encoded data removed]",
      "text/plain": [
       "<Figure size 1440x504 with 1 Axes>"
      ]
     },
     "metadata": {
      "needs_background": "light"
     },
     "output_type": "display_data"
    }
   ],
   "source": [
    "# Plotting predictions against the actual. \n",
    "preds = test[target_col].values[:-window_len] * (preds + 1)\n",
    "preds = pd.Series(index=targets.index, data=preds)\n",
    "line_plot(targets, preds, 'actual', 'prediction', lw=3)"
   ]
  },
  {
   "cell_type": "code",
   "execution_count": null,
   "id": "ba344cab-add1-41f9-a733-01006f830761",
   "metadata": {},
   "outputs": [],
   "source": []
  },
  {
   "cell_type": "code",
   "execution_count": null,
   "id": "224317ae-bd4c-45be-93b7-eeb19f237b4c",
   "metadata": {},
   "outputs": [],
   "source": []
  }
 ],
 "metadata": {
  "kernelspec": {
   "display_name": "dev",
   "language": "python",
   "name": "dev"
  },
  "language_info": {
   "codemirror_mode": {
    "name": "ipython",
    "version": 3
   },
   "file_extension": ".py",
   "mimetype": "text/x-python",
   "name": "python",
   "nbconvert_exporter": "python",
   "pygments_lexer": "ipython3",
   "version": "3.6.13"
  }
 },
 "nbformat": 4,
 "nbformat_minor": 5
}
