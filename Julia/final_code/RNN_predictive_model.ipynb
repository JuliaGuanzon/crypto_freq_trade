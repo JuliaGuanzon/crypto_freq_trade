{
 "cells": [
  {
   "cell_type": "code",
   "execution_count": 1,
   "id": "ccd43a8b-c084-4e6a-87af-256569ba4410",
   "metadata": {},
   "outputs": [
    {
     "data": {
      "text/plain": [
       "'\\nData (Daily & Minute): Binance API-Will need Binance API keys to be able to pull the data. \\nBinance API Documentation: https://binance-docs.github.io/apidocs/spot/en/#introduction\\n\\n'"
      ]
     },
     "execution_count": 1,
     "metadata": {},
     "output_type": "execute_result"
    }
   ],
   "source": [
    "\"\"\"\n",
    "Data (Daily & Minute): Binance API-Will need Binance API keys to be able to pull the data. \n",
    "Binance API Documentation: https://binance-docs.github.io/apidocs/spot/en/#introduction\n",
    "\n",
    "\"\"\""
   ]
  },
  {
   "cell_type": "code",
   "execution_count": 2,
   "id": "583c8236-548a-4532-9488-6d0c095e702f",
   "metadata": {},
   "outputs": [],
   "source": [
    "# J.Guanzon Comment-Imports needed to run this file\n",
    "from binance import Client, ThreadedWebsocketManager, ThreadedDepthCacheManager\n",
    "import pandas as pd\n",
    "import mplfinance as mpl\n",
    "import mplfinance as mpf\n",
    "import os\n",
    "import json\n",
    "import requests\n",
    "from keras.models import Sequential\n",
    "from keras.layers import Activation, Dense, Dropout, LSTM\n",
    "import matplotlib.pyplot as plt\n",
    "import matplotlib.dates as mdates\n",
    "from sklearn.model_selection import train_test_split\n",
    "import numpy as np\n",
    "from pathlib import Path\n",
    "import seaborn as sns\n",
    "from sklearn.metrics import mean_absolute_error\n",
    "%matplotlib inline"
   ]
  },
  {
   "cell_type": "code",
   "execution_count": 3,
   "id": "820e7f0d-1f73-4b5e-b922-abc088443269",
   "metadata": {},
   "outputs": [],
   "source": [
    "# Pull API keys from .env file\n",
    "api_key = os.environ.get(\"api_key\")\n",
    "api_secret = os.environ.get(\"api_secret\")"
   ]
  },
  {
   "cell_type": "code",
   "execution_count": 4,
   "id": "19d7da9c-d242-42d5-8ddd-6807e2ea2284",
   "metadata": {},
   "outputs": [],
   "source": [
    "client = Client(api_key, api_secret)"
   ]
  },
  {
   "cell_type": "code",
   "execution_count": 5,
   "id": "b3676348-7587-441e-b623-45a1532e7059",
   "metadata": {},
   "outputs": [],
   "source": [
    "# J.Guanzon Comment: Gather tickers for all\n",
    "tickers = client.get_all_tickers()"
   ]
  },
  {
   "cell_type": "code",
   "execution_count": 6,
   "id": "d60fe2dc-345a-44f6-b0e4-a7f363314e27",
   "metadata": {},
   "outputs": [],
   "source": [
    "ticker_df = pd.DataFrame(tickers)"
   ]
  },
  {
   "cell_type": "code",
   "execution_count": 7,
   "id": "9189d045-c73a-456c-b8f9-2aa7767c812c",
   "metadata": {},
   "outputs": [
    {
     "data": {
      "text/html": [
       "<div>\n",
       "<style scoped>\n",
       "    .dataframe tbody tr th:only-of-type {\n",
       "        vertical-align: middle;\n",
       "    }\n",
       "\n",
       "    .dataframe tbody tr th {\n",
       "        vertical-align: top;\n",
       "    }\n",
       "\n",
       "    .dataframe thead th {\n",
       "        text-align: right;\n",
       "    }\n",
       "</style>\n",
       "<table border=\"1\" class=\"dataframe\">\n",
       "  <thead>\n",
       "    <tr style=\"text-align: right;\">\n",
       "      <th></th>\n",
       "      <th>price</th>\n",
       "    </tr>\n",
       "    <tr>\n",
       "      <th>symbol</th>\n",
       "      <th></th>\n",
       "    </tr>\n",
       "  </thead>\n",
       "  <tbody>\n",
       "    <tr>\n",
       "      <th>ETHBTC</th>\n",
       "      <td>0.06242800</td>\n",
       "    </tr>\n",
       "    <tr>\n",
       "      <th>LTCBTC</th>\n",
       "      <td>0.00309400</td>\n",
       "    </tr>\n",
       "    <tr>\n",
       "      <th>BNBBTC</th>\n",
       "      <td>0.00821400</td>\n",
       "    </tr>\n",
       "    <tr>\n",
       "      <th>NEOBTC</th>\n",
       "      <td>0.00079400</td>\n",
       "    </tr>\n",
       "    <tr>\n",
       "      <th>QTUMETH</th>\n",
       "      <td>0.00376000</td>\n",
       "    </tr>\n",
       "    <tr>\n",
       "      <th>...</th>\n",
       "      <td>...</td>\n",
       "    </tr>\n",
       "    <tr>\n",
       "      <th>SHIBAUD</th>\n",
       "      <td>0.00004065</td>\n",
       "    </tr>\n",
       "    <tr>\n",
       "      <th>RAREBTC</th>\n",
       "      <td>0.00004211</td>\n",
       "    </tr>\n",
       "    <tr>\n",
       "      <th>RAREBNB</th>\n",
       "      <td>0.00514100</td>\n",
       "    </tr>\n",
       "    <tr>\n",
       "      <th>RAREBUSD</th>\n",
       "      <td>2.37500000</td>\n",
       "    </tr>\n",
       "    <tr>\n",
       "      <th>RAREUSDT</th>\n",
       "      <td>2.37300000</td>\n",
       "    </tr>\n",
       "  </tbody>\n",
       "</table>\n",
       "<p>1695 rows × 1 columns</p>\n",
       "</div>"
      ],
      "text/plain": [
       "               price\n",
       "symbol              \n",
       "ETHBTC    0.06242800\n",
       "LTCBTC    0.00309400\n",
       "BNBBTC    0.00821400\n",
       "NEOBTC    0.00079400\n",
       "QTUMETH   0.00376000\n",
       "...              ...\n",
       "SHIBAUD   0.00004065\n",
       "RAREBTC   0.00004211\n",
       "RAREBNB   0.00514100\n",
       "RAREBUSD  2.37500000\n",
       "RAREUSDT  2.37300000\n",
       "\n",
       "[1695 rows x 1 columns]"
      ]
     },
     "execution_count": 46,
     "metadata": {},
     "output_type": "execute_result"
    }
   ],
   "source": [
    "ticker_df.set_index('symbol', inplace=True)\n",
    "ticker_df"
   ]
  },
  {
   "cell_type": "code",
   "execution_count": 8,
   "id": "f27508af-cf1e-4ae2-a73b-5b7d76141a0a",
   "metadata": {},
   "outputs": [
    {
     "data": {
      "text/plain": [
       "' \\nAbility to save csv file of all tickers.\\nAllows the user to see what types of cryptocurrencies are out there.\\nFor now, we will only focus on Bitcoin.\\n'"
      ]
     },
     "execution_count": 47,
     "metadata": {},
     "output_type": "execute_result"
    }
   ],
   "source": [
    "\"\"\" \n",
    "Ability to save csv file of all tickers.\n",
    "Allows the user to see what types of cryptocurrencies are out there.\n",
    "For now, we will only focus on Bitcoin.\n",
    "\"\"\""
   ]
  },
  {
   "cell_type": "code",
   "execution_count": 9,
   "id": "9c699d43-e69c-4791-8265-31e030e5ed1a",
   "metadata": {},
   "outputs": [],
   "source": [
    "ticker_df.to_csv(\"Resources/binance_tickers.csv\")"
   ]
  },
  {
   "cell_type": "code",
   "execution_count": 10,
   "id": "8996fb20-9527-4c6b-b985-2a31b2b93404",
   "metadata": {},
   "outputs": [
    {
     "data": {
      "text/plain": [
       "56131.37"
      ]
     },
     "metadata": {},
     "output_type": "display_data"
    }
   ],
   "source": [
    "display(float(ticker_df.loc['BTCUSDT']['price']))"
   ]
  },
  {
   "cell_type": "code",
   "execution_count": 11,
   "id": "126f6226-a441-487d-a42a-7dd8039bcaae",
   "metadata": {},
   "outputs": [],
   "source": [
    "depth = client.get_order_book(symbol='BTCUSDT')"
   ]
  },
  {
   "cell_type": "code",
   "execution_count": 12,
   "id": "26ea514f-5ad0-43df-8af3-677cb160c590",
   "metadata": {},
   "outputs": [
    {
     "data": {
      "text/html": [
       "<div>\n",
       "<style scoped>\n",
       "    .dataframe tbody tr th:only-of-type {\n",
       "        vertical-align: middle;\n",
       "    }\n",
       "\n",
       "    .dataframe tbody tr th {\n",
       "        vertical-align: top;\n",
       "    }\n",
       "\n",
       "    .dataframe thead th {\n",
       "        text-align: right;\n",
       "    }\n",
       "</style>\n",
       "<table border=\"1\" class=\"dataframe\">\n",
       "  <thead>\n",
       "    <tr style=\"text-align: right;\">\n",
       "      <th></th>\n",
       "      <th>Price</th>\n",
       "      <th>Volume</th>\n",
       "    </tr>\n",
       "  </thead>\n",
       "  <tbody>\n",
       "    <tr>\n",
       "      <th>0</th>\n",
       "      <td>56131.84000000</td>\n",
       "      <td>1.82533000</td>\n",
       "    </tr>\n",
       "    <tr>\n",
       "      <th>1</th>\n",
       "      <td>56131.88000000</td>\n",
       "      <td>0.00093000</td>\n",
       "    </tr>\n",
       "    <tr>\n",
       "      <th>2</th>\n",
       "      <td>56133.52000000</td>\n",
       "      <td>0.10908000</td>\n",
       "    </tr>\n",
       "    <tr>\n",
       "      <th>3</th>\n",
       "      <td>56136.02000000</td>\n",
       "      <td>0.27960000</td>\n",
       "    </tr>\n",
       "    <tr>\n",
       "      <th>4</th>\n",
       "      <td>56136.07000000</td>\n",
       "      <td>0.25037000</td>\n",
       "    </tr>\n",
       "  </tbody>\n",
       "</table>\n",
       "</div>"
      ],
      "text/plain": [
       "            Price      Volume\n",
       "0  56131.84000000  1.82533000\n",
       "1  56131.88000000  0.00093000\n",
       "2  56133.52000000  0.10908000\n",
       "3  56136.02000000  0.27960000\n",
       "4  56136.07000000  0.25037000"
      ]
     },
     "execution_count": 51,
     "metadata": {},
     "output_type": "execute_result"
    }
   ],
   "source": [
    "depth_df = pd.DataFrame(depth['asks'])\n",
    "depth_df.columns = ['Price', 'Volume']\n",
    "depth_df.head()"
   ]
  },
  {
   "cell_type": "code",
   "execution_count": 13,
   "id": "2c715dd7-d11f-48e7-aa66-41328a736580",
   "metadata": {},
   "outputs": [
    {
     "data": {
      "text/plain": [
       "'\\nPulling historical daily data\\n'"
      ]
     },
     "execution_count": 52,
     "metadata": {},
     "output_type": "execute_result"
    }
   ],
   "source": [
    "\"\"\"\n",
    "Pulling historical daily data\n",
    "\"\"\""
   ]
  },
  {
   "cell_type": "code",
   "execution_count": 14,
   "id": "33c08953-a630-44df-9379-b4366aa1cd84",
   "metadata": {},
   "outputs": [],
   "source": [
    "btc_daily_data = client.get_historical_klines('BTCUSDT', Client.KLINE_INTERVAL_1DAY, '1 Jan 2021')"
   ]
  },
  {
   "cell_type": "code",
   "execution_count": 15,
   "id": "582bdf99-4a30-4a1e-988b-f4a53e6937b3",
   "metadata": {},
   "outputs": [],
   "source": [
    "btc_daily_df = pd.DataFrame(btc_daily_data)\n",
    "btc_daily_df.columns = ['Open Time', 'Open', 'High', 'Low', 'Close', 'Volume', 'Close Time', 'Quote Asset Volume', \n",
    "                    'Number of Trades', 'TB Base Volume', 'TB Quote Volume', 'Ignore']"
   ]
  },
  {
   "cell_type": "code",
   "execution_count": 16,
   "id": "0fbbbc86-f30f-4019-a959-7523f5632c45",
   "metadata": {},
   "outputs": [],
   "source": [
    "btc_daily_df['Open Time'] = pd.to_datetime(btc_daily_df['Open Time']/1000, unit='s')\n",
    "btc_daily_df['Close Time'] = pd.to_datetime(btc_daily_df['Close Time']/1000, unit='s')"
   ]
  },
  {
   "cell_type": "code",
   "execution_count": 17,
   "id": "94df7dde-0269-4fd0-b18a-85a8af41eccf",
   "metadata": {},
   "outputs": [],
   "source": [
    "numeric_columns = ['Open', 'High', 'Low', 'Close', 'Volume', 'Quote Asset Volume', 'TB Base Volume', 'TB Quote Volume']\n",
    "btc_daily_df[numeric_columns] = btc_daily_df[numeric_columns].apply(pd.to_numeric, axis=1)"
   ]
  },
  {
   "cell_type": "code",
   "execution_count": 18,
   "id": "627b1407-d3e9-47c4-b563-2bf62b8f42e8",
   "metadata": {},
   "outputs": [
    {
     "data": {
      "text/html": [
       "<div>\n",
       "<style scoped>\n",
       "    .dataframe tbody tr th:only-of-type {\n",
       "        vertical-align: middle;\n",
       "    }\n",
       "\n",
       "    .dataframe tbody tr th {\n",
       "        vertical-align: top;\n",
       "    }\n",
       "\n",
       "    .dataframe thead th {\n",
       "        text-align: right;\n",
       "    }\n",
       "</style>\n",
       "<table border=\"1\" class=\"dataframe\">\n",
       "  <thead>\n",
       "    <tr style=\"text-align: right;\">\n",
       "      <th></th>\n",
       "      <th>Open</th>\n",
       "      <th>High</th>\n",
       "      <th>Low</th>\n",
       "      <th>Close</th>\n",
       "      <th>Volume</th>\n",
       "    </tr>\n",
       "    <tr>\n",
       "      <th>Open Time</th>\n",
       "      <th></th>\n",
       "      <th></th>\n",
       "      <th></th>\n",
       "      <th></th>\n",
       "      <th></th>\n",
       "    </tr>\n",
       "  </thead>\n",
       "  <tbody>\n",
       "    <tr>\n",
       "      <th>2021-01-01</th>\n",
       "      <td>28923.63</td>\n",
       "      <td>29600.00</td>\n",
       "      <td>28624.57</td>\n",
       "      <td>29331.69</td>\n",
       "      <td>54182.925011</td>\n",
       "    </tr>\n",
       "    <tr>\n",
       "      <th>2021-01-02</th>\n",
       "      <td>29331.70</td>\n",
       "      <td>33300.00</td>\n",
       "      <td>28946.53</td>\n",
       "      <td>32178.33</td>\n",
       "      <td>129993.873362</td>\n",
       "    </tr>\n",
       "    <tr>\n",
       "      <th>2021-01-03</th>\n",
       "      <td>32176.45</td>\n",
       "      <td>34778.11</td>\n",
       "      <td>31962.99</td>\n",
       "      <td>33000.05</td>\n",
       "      <td>120957.566750</td>\n",
       "    </tr>\n",
       "    <tr>\n",
       "      <th>2021-01-04</th>\n",
       "      <td>33000.05</td>\n",
       "      <td>33600.00</td>\n",
       "      <td>28130.00</td>\n",
       "      <td>31988.71</td>\n",
       "      <td>140899.885690</td>\n",
       "    </tr>\n",
       "    <tr>\n",
       "      <th>2021-01-05</th>\n",
       "      <td>31989.75</td>\n",
       "      <td>34360.00</td>\n",
       "      <td>29900.00</td>\n",
       "      <td>33949.53</td>\n",
       "      <td>116049.997038</td>\n",
       "    </tr>\n",
       "    <tr>\n",
       "      <th>...</th>\n",
       "      <td>...</td>\n",
       "      <td>...</td>\n",
       "      <td>...</td>\n",
       "      <td>...</td>\n",
       "      <td>...</td>\n",
       "    </tr>\n",
       "    <tr>\n",
       "      <th>2021-10-09</th>\n",
       "      <td>53955.67</td>\n",
       "      <td>55489.00</td>\n",
       "      <td>53661.67</td>\n",
       "      <td>54949.72</td>\n",
       "      <td>55177.080130</td>\n",
       "    </tr>\n",
       "    <tr>\n",
       "      <th>2021-10-10</th>\n",
       "      <td>54949.72</td>\n",
       "      <td>56561.31</td>\n",
       "      <td>54080.00</td>\n",
       "      <td>54659.00</td>\n",
       "      <td>89237.836128</td>\n",
       "    </tr>\n",
       "    <tr>\n",
       "      <th>2021-10-11</th>\n",
       "      <td>54659.01</td>\n",
       "      <td>57839.04</td>\n",
       "      <td>54415.06</td>\n",
       "      <td>57471.35</td>\n",
       "      <td>52933.165751</td>\n",
       "    </tr>\n",
       "    <tr>\n",
       "      <th>2021-10-12</th>\n",
       "      <td>57471.35</td>\n",
       "      <td>57680.00</td>\n",
       "      <td>53879.00</td>\n",
       "      <td>55996.93</td>\n",
       "      <td>53471.285500</td>\n",
       "    </tr>\n",
       "    <tr>\n",
       "      <th>2021-10-13</th>\n",
       "      <td>55996.91</td>\n",
       "      <td>56599.99</td>\n",
       "      <td>55825.90</td>\n",
       "      <td>56131.83</td>\n",
       "      <td>6777.904750</td>\n",
       "    </tr>\n",
       "  </tbody>\n",
       "</table>\n",
       "<p>286 rows × 5 columns</p>\n",
       "</div>"
      ],
      "text/plain": [
       "                Open      High       Low     Close         Volume\n",
       "Open Time                                                        \n",
       "2021-01-01  28923.63  29600.00  28624.57  29331.69   54182.925011\n",
       "2021-01-02  29331.70  33300.00  28946.53  32178.33  129993.873362\n",
       "2021-01-03  32176.45  34778.11  31962.99  33000.05  120957.566750\n",
       "2021-01-04  33000.05  33600.00  28130.00  31988.71  140899.885690\n",
       "2021-01-05  31989.75  34360.00  29900.00  33949.53  116049.997038\n",
       "...              ...       ...       ...       ...            ...\n",
       "2021-10-09  53955.67  55489.00  53661.67  54949.72   55177.080130\n",
       "2021-10-10  54949.72  56561.31  54080.00  54659.00   89237.836128\n",
       "2021-10-11  54659.01  57839.04  54415.06  57471.35   52933.165751\n",
       "2021-10-12  57471.35  57680.00  53879.00  55996.93   53471.285500\n",
       "2021-10-13  55996.91  56599.99  55825.90  56131.83    6777.904750\n",
       "\n",
       "[286 rows x 5 columns]"
      ]
     },
     "execution_count": 57,
     "metadata": {},
     "output_type": "execute_result"
    }
   ],
   "source": [
    "btc_ohlcv_daily = btc_daily_df.iloc[:,0:6]\n",
    "btc_ohlcv_daily = btc_ohlcv_daily.set_index('Open Time')\n",
    "btc_ohlcv_daily"
   ]
  },
  {
   "cell_type": "code",
   "execution_count": 19,
   "id": "4faac810-dedb-4943-8516-e0bd1915a443",
   "metadata": {},
   "outputs": [],
   "source": [
    "btc_ohlcv_daily.to_csv(\"Resources/daily_btc_ohclv_2021.csv\")"
   ]
  },
  {
   "cell_type": "code",
   "execution_count": 20,
   "id": "ec237b49-e018-41ff-ae3d-0dbfcc731548",
   "metadata": {},
   "outputs": [
    {
     "data": {
      "text/plain": [
       "'\\nPulling historical minute data \\n'"
      ]
     },
     "execution_count": 59,
     "metadata": {},
     "output_type": "execute_result"
    }
   ],
   "source": [
    "\"\"\"\n",
    "Pulling historical minute data \n",
    "\"\"\""
   ]
  },
  {
   "cell_type": "code",
   "execution_count": 21,
   "id": "d61b4f71-3f1f-4261-b480-94de23adc106",
   "metadata": {},
   "outputs": [],
   "source": [
    "historical_minute = client.get_historical_klines('BTCUSDC', Client.KLINE_INTERVAL_1MINUTE, '5 day ago UTC')"
   ]
  },
  {
   "cell_type": "code",
   "execution_count": 22,
   "id": "ede5e7d3-9cef-46fc-af64-ec9295672615",
   "metadata": {},
   "outputs": [],
   "source": [
    "hist_min = pd.DataFrame(historical_minute)"
   ]
  },
  {
   "cell_type": "code",
   "execution_count": 23,
   "id": "74d85e44-0c5d-42b0-b81f-bec854b776ed",
   "metadata": {},
   "outputs": [],
   "source": [
    "hist_min.columns = ['Open Time', 'Open', 'High', 'Low', 'Close', 'Volume', 'Close Time', 'Quote Asset Volume', \n",
    "                    'Number of Trades', 'TB Base Volume', 'TB Quote Volume', 'Ignore']"
   ]
  },
  {
   "cell_type": "code",
   "execution_count": 24,
   "id": "0f38de4b-44b7-4413-b5e3-5ab1247edc7d",
   "metadata": {},
   "outputs": [],
   "source": [
    "hist_min['Open Time'] = pd.to_datetime(hist_min['Open Time']/1000, unit='s')\n",
    "hist_min['Close Time'] = pd.to_datetime(hist_min['Close Time']/1000, unit='s')\n"
   ]
  },
  {
   "cell_type": "code",
   "execution_count": 25,
   "id": "f394022f-126d-40f4-ac40-77d5694200b3",
   "metadata": {},
   "outputs": [],
   "source": [
    "numeric_columns = ['Open', 'High', 'Low', 'Close', 'Volume', 'Quote Asset Volume', 'TB Base Volume', 'TB Quote Volume']\n",
    "hist_min[numeric_columns] = hist_min[numeric_columns].apply(pd.to_numeric, axis=1)"
   ]
  },
  {
   "cell_type": "code",
   "execution_count": 26,
   "id": "c54b09a6-c32f-42fd-8bd9-a75ffd2c11f6",
   "metadata": {},
   "outputs": [
    {
     "data": {
      "text/html": [
       "<div>\n",
       "<style scoped>\n",
       "    .dataframe tbody tr th:only-of-type {\n",
       "        vertical-align: middle;\n",
       "    }\n",
       "\n",
       "    .dataframe tbody tr th {\n",
       "        vertical-align: top;\n",
       "    }\n",
       "\n",
       "    .dataframe thead th {\n",
       "        text-align: right;\n",
       "    }\n",
       "</style>\n",
       "<table border=\"1\" class=\"dataframe\">\n",
       "  <thead>\n",
       "    <tr style=\"text-align: right;\">\n",
       "      <th></th>\n",
       "      <th>Open</th>\n",
       "      <th>High</th>\n",
       "      <th>Low</th>\n",
       "      <th>Close</th>\n",
       "      <th>Volume</th>\n",
       "    </tr>\n",
       "    <tr>\n",
       "      <th>Open Time</th>\n",
       "      <th></th>\n",
       "      <th></th>\n",
       "      <th></th>\n",
       "      <th></th>\n",
       "      <th></th>\n",
       "    </tr>\n",
       "  </thead>\n",
       "  <tbody>\n",
       "    <tr>\n",
       "      <th>2021-10-08 04:47:00</th>\n",
       "      <td>53930.92</td>\n",
       "      <td>53940.04</td>\n",
       "      <td>53910.38</td>\n",
       "      <td>53911.27</td>\n",
       "      <td>0.22636</td>\n",
       "    </tr>\n",
       "    <tr>\n",
       "      <th>2021-10-08 04:48:00</th>\n",
       "      <td>53927.65</td>\n",
       "      <td>53946.47</td>\n",
       "      <td>53920.29</td>\n",
       "      <td>53946.47</td>\n",
       "      <td>0.09104</td>\n",
       "    </tr>\n",
       "    <tr>\n",
       "      <th>2021-10-08 04:49:00</th>\n",
       "      <td>53952.22</td>\n",
       "      <td>53982.87</td>\n",
       "      <td>53942.61</td>\n",
       "      <td>53968.60</td>\n",
       "      <td>0.04603</td>\n",
       "    </tr>\n",
       "    <tr>\n",
       "      <th>2021-10-08 04:50:00</th>\n",
       "      <td>53968.90</td>\n",
       "      <td>53981.20</td>\n",
       "      <td>53930.10</td>\n",
       "      <td>53930.10</td>\n",
       "      <td>1.12852</td>\n",
       "    </tr>\n",
       "    <tr>\n",
       "      <th>2021-10-08 04:51:00</th>\n",
       "      <td>53933.94</td>\n",
       "      <td>53944.39</td>\n",
       "      <td>53925.67</td>\n",
       "      <td>53925.67</td>\n",
       "      <td>0.14553</td>\n",
       "    </tr>\n",
       "    <tr>\n",
       "      <th>...</th>\n",
       "      <td>...</td>\n",
       "      <td>...</td>\n",
       "      <td>...</td>\n",
       "      <td>...</td>\n",
       "      <td>...</td>\n",
       "    </tr>\n",
       "    <tr>\n",
       "      <th>2021-10-13 04:42:00</th>\n",
       "      <td>56208.80</td>\n",
       "      <td>56223.74</td>\n",
       "      <td>56206.19</td>\n",
       "      <td>56207.08</td>\n",
       "      <td>0.43183</td>\n",
       "    </tr>\n",
       "    <tr>\n",
       "      <th>2021-10-13 04:43:00</th>\n",
       "      <td>56217.48</td>\n",
       "      <td>56217.48</td>\n",
       "      <td>56193.90</td>\n",
       "      <td>56193.90</td>\n",
       "      <td>0.20990</td>\n",
       "    </tr>\n",
       "    <tr>\n",
       "      <th>2021-10-13 04:44:00</th>\n",
       "      <td>56186.35</td>\n",
       "      <td>56195.75</td>\n",
       "      <td>56161.82</td>\n",
       "      <td>56164.60</td>\n",
       "      <td>0.12363</td>\n",
       "    </tr>\n",
       "    <tr>\n",
       "      <th>2021-10-13 04:45:00</th>\n",
       "      <td>56163.56</td>\n",
       "      <td>56163.56</td>\n",
       "      <td>56141.39</td>\n",
       "      <td>56141.39</td>\n",
       "      <td>0.88368</td>\n",
       "    </tr>\n",
       "    <tr>\n",
       "      <th>2021-10-13 04:46:00</th>\n",
       "      <td>56119.42</td>\n",
       "      <td>56121.72</td>\n",
       "      <td>56119.42</td>\n",
       "      <td>56121.72</td>\n",
       "      <td>0.03368</td>\n",
       "    </tr>\n",
       "  </tbody>\n",
       "</table>\n",
       "<p>7200 rows × 5 columns</p>\n",
       "</div>"
      ],
      "text/plain": [
       "                         Open      High       Low     Close   Volume\n",
       "Open Time                                                           \n",
       "2021-10-08 04:47:00  53930.92  53940.04  53910.38  53911.27  0.22636\n",
       "2021-10-08 04:48:00  53927.65  53946.47  53920.29  53946.47  0.09104\n",
       "2021-10-08 04:49:00  53952.22  53982.87  53942.61  53968.60  0.04603\n",
       "2021-10-08 04:50:00  53968.90  53981.20  53930.10  53930.10  1.12852\n",
       "2021-10-08 04:51:00  53933.94  53944.39  53925.67  53925.67  0.14553\n",
       "...                       ...       ...       ...       ...      ...\n",
       "2021-10-13 04:42:00  56208.80  56223.74  56206.19  56207.08  0.43183\n",
       "2021-10-13 04:43:00  56217.48  56217.48  56193.90  56193.90  0.20990\n",
       "2021-10-13 04:44:00  56186.35  56195.75  56161.82  56164.60  0.12363\n",
       "2021-10-13 04:45:00  56163.56  56163.56  56141.39  56141.39  0.88368\n",
       "2021-10-13 04:46:00  56119.42  56121.72  56119.42  56121.72  0.03368\n",
       "\n",
       "[7200 rows x 5 columns]"
      ]
     },
     "execution_count": 65,
     "metadata": {},
     "output_type": "execute_result"
    }
   ],
   "source": [
    "btc_ohlcv_minute = hist_min.iloc[:,0:6]\n",
    "btc_ohlcv_minute = btc_ohlcv_minute.set_index('Open Time')\n",
    "btc_ohlcv_minute"
   ]
  },
  {
   "cell_type": "code",
   "execution_count": 27,
   "id": "a1e73c4c-2e2c-4b91-9352-192488afe79d",
   "metadata": {},
   "outputs": [],
   "source": [
    "btc_ohlcv_minute.to_csv(\"Resources/minute_btc_ohclv_2021.csv\")"
   ]
  },
  {
   "cell_type": "code",
   "execution_count": 28,
   "id": "a075ee4b-ca7f-4659-a85c-53714099b072",
   "metadata": {},
   "outputs": [
    {
     "data": {
      "text/plain": [
       "'\\nNext, we will be using the daily data for our Recurrent Neural Network. We are using Recurrent Neural Network for its use of time series and sequential data. \\nRNN specializes in using information from prior inputs and uses it to influence current inputs and outputs, and the cycle repeats. \\n'"
      ]
     },
     "execution_count": 67,
     "metadata": {},
     "output_type": "execute_result"
    }
   ],
   "source": [
    "\"\"\"\n",
    "Next, we will be using the daily data for our Recurrent Neural Network. We are using Recurrent Neural Network for its use of time series and sequential data. \n",
    "RNN specializes in using information from prior inputs and uses it to influence current inputs and outputs, and the cycle repeats. \n",
    "\"\"\""
   ]
  },
  {
   "cell_type": "code",
   "execution_count": null,
   "id": "f8f2e0e6-205b-4edb-ae31-ccadc044efec",
   "metadata": {},
   "outputs": [],
   "source": [
    "btc_df = pd.read_csv(Path(\"Resources/daily_btc_ohclv_2021.csv\"), \n",
    "                     index_col= \"Open Time\")\n",
    "target_col = 'Close'"
   ]
  },
  {
   "cell_type": "code",
   "execution_count": 70,
   "id": "d42f7d94-1a12-4bce-800f-c88b28e63d73",
   "metadata": {},
   "outputs": [
    {
     "data": {
      "text/plain": [
       "<function __main__.normalize_timestep(timestep, reference_list)>"
      ]
     },
     "execution_count": 70,
     "metadata": {},
     "output_type": "execute_result"
    }
   ],
   "source": [
    "def normalize_timestep(timestep, reference_list):\n",
    "    reference_price = timestep[0][0]\n",
    "    reference_list.append(reference_price)\n",
    "\n",
    "    temp_volume = np.copy(timestep[:, 3])\n",
    "    reference_volume = np.copy(timestep[0, 3])\n",
    "\n",
    "    timestep = (timestep / reference_price) - 1\n",
    "    timestep[:, 3] = (temp_volume / reference_volume) - 1\n",
    "    return timestep\n",
    "normalize_timestep"
   ]
  },
  {
   "cell_type": "code",
   "execution_count": 71,
   "id": "8072a4c9-618d-4a1a-89dd-1c57f3cf5d59",
   "metadata": {},
   "outputs": [
    {
     "data": {
      "text/plain": [
       "<function __main__.load_data(btc_df, num_timesteps, target_len, train_percent=0.75)>"
      ]
     },
     "execution_count": 71,
     "metadata": {},
     "output_type": "execute_result"
    }
   ],
   "source": [
    "\n",
    "#take data and split into timeseries so that we can train the model\n",
    "def load_data(btc_df, num_timesteps, target_len, train_percent=.75):\n",
    "\n",
    "    # iterate so that we can also capture a sequence for a target\n",
    "    combined_length = num_timesteps + target_len\n",
    "\n",
    "    # segment the data into timeseries (these will be overlapping)\n",
    "    result = []\n",
    "    for index in range(len(btc_df) - combined_length):\n",
    "        time_series = btc_df[index: index + combined_length]\n",
    "        result.append(time_series[:])\n",
    "\n",
    "    result = np.asarray(result)\n",
    "\n",
    "    # normalize\n",
    "    reference_points = [] #for de-normalizing outside of the function\n",
    "    for i in range(0, len(result)):\n",
    "        result[i] = normalize_timestep(result[i], reference_points)\n",
    "\n",
    "\n",
    "    # train test split\n",
    "    row = round(train_percent * result.shape[0])\n",
    "    train = result[:int(row), :]\n",
    "    test = result[int(row):, :]\n",
    "\n",
    "    split_index = len(train[0]) - target_len\n",
    "    x_train = train[:, :split_index]\n",
    "    y_train = train[:, split_index:, -1]\n",
    "\n",
    "    x_test = test[:, :split_index]\n",
    "    y_test = test[:, split_index:, -1]\n",
    "\n",
    "    return [x_train, y_train, x_test, y_test, reference_points]\n",
    "load_data"
   ]
  },
  {
   "cell_type": "code",
   "execution_count": 72,
   "id": "70733ffb-b81f-41af-97af-0185e6eeb85d",
   "metadata": {},
   "outputs": [],
   "source": [
    "def generate_graph(stock_name, days_back, num_timesteps, target_len, minimum_days=500):\n",
    "    stock_name = stock_name\n",
    "    stock_data = get_stock_data(stock_name, days_back, minimum_days)\n",
    "\n",
    "    X_train, y_train, X_test, y_test, ref = load_data(stock_data, num_timesteps, target_len=target_len, train_percent=.9)\n",
    "\n",
    "    # store recent data so that we can get a live prediction\n",
    "    recent_reference = []\n",
    "    recent_data = stock_data[-num_timesteps:]\n",
    "    recent_data = normalize_timestep(recent_data, recent_reference)\n",
    "\n",
    "    print(\"    X_train\", X_train.shape)\n",
    "    print(\"    y_train\", y_train.shape)\n",
    "    print(\"    X_test\", X_test.shape)\n",
    "    print(\"    y_test\", y_test.shape)\n",
    "\n",
    "    # setup model\n",
    "    print(\"TRAINING\")\n",
    "    model = build_model([5, num_timesteps, target_len])\n",
    "    model.fit(\n",
    "        X_train,\n",
    "        y_train,\n",
    "        batch_size=512,\n",
    "        epochs=1,\n",
    "        validation_split=0.1,\n",
    "        verbose=2)\n",
    "\n",
    "    #train the model\n",
    "    trainScore = model.evaluate(X_train, y_train, verbose=100)\n",
    "    print('Train Score: %.2f MSE (%.2f RMSE) (%.2f)' % (trainScore[0], math.sqrt(trainScore[0]), trainScore[1]))\n",
    "\n",
    "    testScore = model.evaluate(X_test, y_test, verbose=100)\n",
    "    print('Test Score: %.2f MSE (%.2f RMSE) (%.2f)' % (testScore[0], math.sqrt(testScore[0]), testScore[1]))\n",
    "\n",
    "    #make predictions\n",
    "    print(\"PREDICTING\")\n",
    "    p = model.predict(X_test)\n",
    "    recent_data = [recent_data] # One-sample predictions need list wrapper. Argument must be 3d.\n",
    "    recent_data = np.asarray(recent_data)\n",
    "    future = model.predict([recent_data])\n",
    "\n",
    "    # document results in file\n",
    "    print(\"WRITING TO LOG\")\n",
    "    file = open(\"log.txt\", \"w\")\n",
    "    for i in range(0, len(X_train)):\n",
    "        for s in range(0, num_timesteps):\n",
    "            file.write(str(X_train[i][s]) + \"\\n\")\n",
    "        file.write(\"Target: \" + str(y_train[i]) + \"\\n\")\n",
    "        file.write(\"\\n\")\n",
    "\n",
    "    for i in range(0, len(X_test)):\n",
    "        for s in range(0, num_timesteps):\n",
    "            file.write(str(X_test[i][s]) + \"\\n\")\n",
    "        file.write(\"Target: \" + str(y_test[i]) + \"\\n\")\n",
    "        file.write(\"Prediction: \" + str(p[i]) + \"\\n\")\n",
    "        file.write(\"\\n\")\n",
    "\n",
    "    # de-normalize\n",
    "    for i in range(0, len(p)):\n",
    "        p[i] = (p[i] + 1) * ref[round(.9 * len(ref) + i)]\n",
    "        y_test[i] = (y_test[i] + 1) * ref[round(.9 * len(ref) + i)]\n",
    "\n",
    "    future[0] = (future[0] + 1) * recent_reference[0]\n",
    "    recent_data[0] = (recent_data[0] + 1) * recent_reference[0]\n",
    "\n",
    "    # plot historical predictions\n",
    "    for i in range(0, len(p)):\n",
    "        if i % (target_len*2) == 0:\n",
    "            plot_index = i #for filling plot indexes\n",
    "            plot_indexes = []\n",
    "            plot_values = p[i]\n",
    "            for j in range(0, target_len):\n",
    "                plot_indexes.append(plot_index)\n",
    "                plot_index += 1\n",
    "            plt.plot(plot_indexes, plot_values, color=\"red\")\n",
    "\n",
    "    # plot historical actual\n",
    "    plt.plot(y_test[:, 0], color='blue', label='Actual') # actual stock price history\n",
    "\n",
    "    # plot recent prices\n",
    "    plot_indexes = [len(y_test) - 1]\n",
    "    plot_values = [y_test[-1, 0]]\n",
    "    plot_index = None\n",
    "    for i in range(0, len(recent_data[0])):\n",
    "        plot_values.append(recent_data[0][i][0])\n",
    "        plot_index = len(y_test) + i\n",
    "        plot_indexes.append(len(y_test)+i)\n",
    "    plt.plot(plot_indexes, plot_values, color='blue')\n",
    "\n",
    "    # plot future predictions\n",
    "    plot_indexes = [plot_index]\n",
    "    plot_values = [recent_data[0][-1][0]]\n",
    "    for i in range(0, len(future[0])):\n",
    "        plot_index += 1\n",
    "        plot_values.append(future[0][i])\n",
    "        plot_indexes.append(plot_index)\n",
    "    plt.plot(plot_indexes, plot_values, color=\"red\", label=\"Prediction\")\n",
    "\n",
    "    #show plot\n",
    "    plt.legend(loc=\"upper left\")\n",
    "    plt.title(stock_name + \" Price Predictions\")\n",
    "    plt.xlabel(\"Days\")\n",
    "    plt.ylabel(\"Price ($)\")\n",
    "    plt.show()\n",
    "\n",
    "    return True\n",
    "\n",
    "generate_graph"
   ]
  },
  {
   "cell_type": "code",
   "execution_count": 72,
   "id": "9073c1c0-035a-435d-8fcb-6b4c9d09de5a",
   "metadata": {},
   "outputs": [
    {
     "data": {
      "text/plain": [
       "<function __main__.generate_graph(stock_name, days_back, num_timesteps, target_len, minimum_days=500)>"
      ]
     },
     "execution_count": 72,
     "metadata": {},
     "output_type": "execute_result"
    }
   ],
   "source": [
    "if __name__ == \"__main__\":\n",
    "    fire.Fire(run)"
   ]
  },
  {
   "cell_type": "code",
   "execution_count": null,
   "id": "7bd972f7-9644-40c2-ae48-c2e645b0fd1b",
   "metadata": {},
   "outputs": [
    {
     "ename": "SyntaxError",
     "evalue": "unexpected EOF while parsing (<ipython-input-39-8cc0034dc7be>, line 11)",
     "output_type": "error",
     "traceback": [
      "\u001b[1;36m  File \u001b[1;32m\"<ipython-input-39-8cc0034dc7be>\"\u001b[1;36m, line \u001b[1;32m11\u001b[0m\n\u001b[1;33m    # generate_graph(ticker, 300, 20, 10) #FOR TESTING\u001b[0m\n\u001b[1;37m                                                      ^\u001b[0m\n\u001b[1;31mSyntaxError\u001b[0m\u001b[1;31m:\u001b[0m unexpected EOF while parsing\n"
     ]
    }
   ],
   "source": [
    "tickers = read_stocks(\"ftp://ftp.nasdaqtrader.com/symboldirectory/nasdaqlisted.txt\")\n",
    "num_days_back = 3700\n",
    "\n",
    "for ticker in tickers:\n",
    "    print(\"Ticker:\" + str(ticker))\n",
    "\n",
    "    try:\n",
    "        isDone = generate_graph(ticker, num_days_back, 100, 30)\n",
    "    except quandl.errors.quandl_error.NotFoundError:\n",
    "        continue\n",
    "\n",
    "    # generate_graph(ticker, 300, 20, 10) #FOR TESTING"
   ]
  }
 ],
 "metadata": {
  "kernelspec": {
   "display_name": "dev",
   "language": "python",
   "name": "dev"
  },
  "language_info": {
   "codemirror_mode": {
    "name": "ipython",
    "version": 3
   },
   "file_extension": ".py",
   "mimetype": "text/x-python",
   "name": "python",
   "nbconvert_exporter": "python",
   "pygments_lexer": "ipython3",
   "version": "3.6.13"
  }
 },
 "nbformat": 4,
 "nbformat_minor": 5
}
