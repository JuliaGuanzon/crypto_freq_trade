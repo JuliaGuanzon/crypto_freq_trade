{
 "cells": [
  {
   "cell_type": "code",
   "execution_count": 1,
   "id": "95425130",
   "metadata": {},
   "outputs": [],
   "source": [
    "import websocket \n",
    "import json"
   ]
  },
  {
   "cell_type": "code",
   "execution_count": 2,
   "id": "2a1b5290",
   "metadata": {},
   "outputs": [],
   "source": [
    "cc = 'btcusd'\n",
    "interval = '1m'\n",
    "socket = f\"wss://stream.binance.com:9443/ws/{cc}/@kline_{interval}\""
   ]
  },
  {
   "cell_type": "code",
   "execution_count": 3,
   "id": "31395a29",
   "metadata": {},
   "outputs": [],
   "source": [
    "closes,highs,lows = [],[],[]"
   ]
  },
  {
   "cell_type": "code",
   "execution_count": 4,
   "id": "8eb5276f",
   "metadata": {},
   "outputs": [],
   "source": [
    "def on_message(ws, message):\n",
    "    json_message = json.loads(message)\n",
    "    candle = json_message['k']\n",
    "    is_candle_closed = candle['x']\n",
    "    close = candle['c']\n",
    "    high = candle['h']\n",
    "    low = candle['l']\n",
    "    vol = candle['v']\n",
    "    if is_candle_closed:\n",
    "        closes.append(float(close))\n",
    "        highs.append(float(high))\n",
    "        lows.append(float(low))"
   ]
  },
  {
   "cell_type": "code",
   "execution_count": 5,
   "id": "8ca039af",
   "metadata": {},
   "outputs": [
    {
     "name": "stdout",
     "output_type": "stream",
     "text": [
      "[]\n",
      "[]\n",
      "[]\n"
     ]
    }
   ],
   "source": [
    "print(closes)\n",
    "print(highs)\n",
    "print(lows)\n"
   ]
  },
  {
   "cell_type": "code",
   "execution_count": 6,
   "id": "82fa46b3",
   "metadata": {},
   "outputs": [],
   "source": [
    "def on_close(ws):\n",
    "    print(\"Connection Closed\")"
   ]
  },
  {
   "cell_type": "code",
   "execution_count": 7,
   "id": "9a5fd283",
   "metadata": {},
   "outputs": [],
   "source": [
    "ws=websocket.WebSocketApp(socket, on_message=on_message, on_close=on_close)"
   ]
  },
  {
   "cell_type": "code",
   "execution_count": 8,
   "id": "19c169fb",
   "metadata": {},
   "outputs": [
    {
     "data": {
      "text/plain": [
       "False"
      ]
     },
     "execution_count": 8,
     "metadata": {},
     "output_type": "execute_result"
    }
   ],
   "source": [
    "ws.run_forever()"
   ]
  },
  {
   "cell_type": "code",
   "execution_count": null,
   "id": "22300a8f",
   "metadata": {},
   "outputs": [],
   "source": []
  },
  {
   "cell_type": "code",
   "execution_count": null,
   "id": "9f76627c",
   "metadata": {},
   "outputs": [],
   "source": []
  },
  {
   "cell_type": "code",
   "execution_count": null,
   "id": "82835969",
   "metadata": {},
   "outputs": [],
   "source": []
  },
  {
   "cell_type": "code",
   "execution_count": null,
   "id": "3e809183",
   "metadata": {},
   "outputs": [],
   "source": []
  },
  {
   "cell_type": "code",
   "execution_count": 9,
   "id": "d3a25674",
   "metadata": {},
   "outputs": [],
   "source": [
    "# try:\n",
    "#     import thread\n",
    "# except ImportError:\n",
    "#     import _thread as thread\n",
    "# import time    "
   ]
  },
  {
   "cell_type": "code",
   "execution_count": null,
   "id": "45543e1f",
   "metadata": {},
   "outputs": [],
   "source": []
  },
  {
   "cell_type": "code",
   "execution_count": 10,
   "id": "9331ea64",
   "metadata": {},
   "outputs": [
    {
     "ename": "IndentationError",
     "evalue": "unexpected indent (<ipython-input-10-476e58b7e9ab>, line 2)",
     "output_type": "error",
     "traceback": [
      "\u001b[1;36m  File \u001b[1;32m\"<ipython-input-10-476e58b7e9ab>\"\u001b[1;36m, line \u001b[1;32m2\u001b[0m\n\u001b[1;33m    print(error)\u001b[0m\n\u001b[1;37m    ^\u001b[0m\n\u001b[1;31mIndentationError\u001b[0m\u001b[1;31m:\u001b[0m unexpected indent\n"
     ]
    }
   ],
   "source": [
    "#def on_error(ws, error):\n",
    "    print(error)"
   ]
  },
  {
   "cell_type": "code",
   "execution_count": null,
   "id": "08fb8b74",
   "metadata": {},
   "outputs": [],
   "source": []
  },
  {
   "cell_type": "code",
   "execution_count": null,
   "id": "d64ff54b",
   "metadata": {},
   "outputs": [],
   "source": [
    "# def on_open(ws):\n",
    "#     def un(*args):\n",
    "#         for i in range(3):\n",
    "#             time.sleep(1)\n",
    "#             ws.send(\"Hello %d\" % 1)\n",
    "#         time.sleep(1)\n",
    "#         ws.close()\n",
    "#         print(\"thread terminating...\")\n",
    "#     thread.start_new_thread(run, ())\n",
    "    "
   ]
  },
  {
   "cell_type": "code",
   "execution_count": null,
   "id": "98cdf378",
   "metadata": {},
   "outputs": [],
   "source": []
  },
  {
   "cell_type": "code",
   "execution_count": null,
   "id": "a38f246e",
   "metadata": {},
   "outputs": [],
   "source": []
  }
 ],
 "metadata": {
  "kernelspec": {
   "display_name": "Python 3.7.10 64-bit ('dev': conda)",
   "language": "python",
   "name": "python3710jvsc74a57bd01e9977374809989f508f091187a15f7a2c3d1bf11f900935711f99c30ec7fe3a"
  },
  "language_info": {
   "codemirror_mode": {
    "name": "ipython",
    "version": 3
   },
   "file_extension": ".py",
   "mimetype": "text/x-python",
   "name": "python",
   "nbconvert_exporter": "python",
   "pygments_lexer": "ipython3",
   "version": "3.7.10"
  }
 },
 "nbformat": 4,
 "nbformat_minor": 5
}
