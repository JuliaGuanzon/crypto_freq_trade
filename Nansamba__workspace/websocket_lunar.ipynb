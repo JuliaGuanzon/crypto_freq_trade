{
 "cells": [
  {
   "cell_type": "markdown",
   "id": "f32e5097",
   "metadata": {},
   "source": [
    "# Websocket for lunarcrush.com\n",
    "## Authentication key isssue, will speak with rep"
   ]
  },
  {
   "cell_type": "code",
   "execution_count": 16,
   "id": "efb582f2",
   "metadata": {},
   "outputs": [],
   "source": [
    "#import requests\n",
    "#import ssl\n",
    "import json\n",
    "import time\n",
    "import tweepy\n",
    "import os\n",
    "import pandas as pd\n",
    "from pathlib import Path\n",
    "from pprint import pprint\n",
    "import asyncio \n",
    "import websocket\n",
    "from dotenv import load_dotenv"
   ]
  },
  {
   "cell_type": "code",
   "execution_count": 17,
   "id": "50430407",
   "metadata": {},
   "outputs": [
    {
     "data": {
      "text/plain": [
       "True"
      ]
     },
     "execution_count": 17,
     "metadata": {},
     "output_type": "execute_result"
    }
   ],
   "source": [
    "load_dotenv()\n"
   ]
  },
  {
   "cell_type": "code",
   "execution_count": 18,
   "id": "2f00396b",
   "metadata": {},
   "outputs": [],
   "source": [
    "api_key = os.environ.get(\"LUNAR_API_KEY\")"
   ]
  },
  {
   "cell_type": "code",
   "execution_count": 19,
   "id": "fa53a305",
   "metadata": {},
   "outputs": [],
   "source": [
    "def on_open(ws):\n",
    "    \n",
    "    \n",
    "    auth=f\"auth:{api_key}\"\n",
    "    ws.send(auth)\n",
    "    subscribe=\"subscribe:btc\"\n",
    "    ws.send(subscribe)\n",
    "       \n",
    " "
   ]
  },
  {
   "cell_type": "code",
   "execution_count": 20,
   "id": "e1682b6d",
   "metadata": {},
   "outputs": [],
   "source": [
    "def on_message(ws,message):\n",
    "    print(message)"
   ]
  },
  {
   "cell_type": "code",
   "execution_count": 21,
   "id": "6000c1d5",
   "metadata": {},
   "outputs": [],
   "source": [
    "def on_error(ws,error):\n",
    "    print(error)"
   ]
  },
  {
   "cell_type": "code",
   "execution_count": 22,
   "id": "5f4b3271",
   "metadata": {},
   "outputs": [],
   "source": [
    "def on_close(ws):\n",
    "    print(\"websocket closed\")"
   ]
  },
  {
   "cell_type": "code",
   "execution_count": 23,
   "id": "c6b62c3f",
   "metadata": {
    "scrolled": true
   },
   "outputs": [
    {
     "name": "stdout",
     "output_type": "stream",
     "text": [
      "\n",
      "Welcome to the lunarcrush websocket API, You must first authenticate using:\n",
      "auth:<your api key here>\n",
      "\n",
      "Then you can subscribe to events:\n",
      "subscribe:btc //subscribes you to all btc metric changes\n",
      "subscribe:btc,ltc,eth //subscribes you to all btc, ltc and eth metric changes\n",
      "subscribe:btc/close/social_volume // subscribes you only to btc close and social volume metric changes\n",
      "subscribe:btc/close/social_volume,eth/close/social_volume // subscribes you to close and social_volume metrics for btc and eth\n",
      "\n",
      "Use the symbol \"global\" for overall market metrics:\n",
      "subscribe:global\n",
      "\n",
      "Use history to get the last 24 changes to a symbol/metric:\n",
      "history:btc,ltc/close\n",
      "\n",
      "*Note: each subscribe command overwrites the previous. Enter all channels to subscribe to in one message.\n",
      "\n",
      "you can stop getting events by sending:\n",
      "unsubscribe\n",
      "\n",
      "You have ~60 seconds to authenticate before we disconnect you.\n",
      "\n",
      "{\"action\":\"subscribe\",\"message\":\"you must authenticate using command: auth:<your api key here> or you will be disconnected\"}\n",
      "{\"action\":\"auth\",\"error\":\"API key does not provide websocket access\"}\n"
     ]
    }
   ],
   "source": [
    "ws=websocket.WebSocketApp(\"wss://stream.lunarcrush.com/v2\", on_message=on_message, on_error=on_error, on_close=on_close)\n",
    "ws.on_open=on_open\n",
    "ws.run_forever()"
   ]
  },
  {
   "cell_type": "code",
   "execution_count": 25,
   "id": "d4970e7b",
   "metadata": {},
   "outputs": [
    {
     "data": {
      "text/plain": [
       "<coroutine object lunarsocket at 0x000001F5F641FF48>"
      ]
     },
     "execution_count": 25,
     "metadata": {},
     "output_type": "execute_result"
    }
   ],
   "source": [
    "#asyncio.run(lunarsocket())\n",
    "lunarsocket()"
   ]
  },
  {
   "cell_type": "code",
   "execution_count": null,
   "id": "be3a672d",
   "metadata": {},
   "outputs": [],
   "source": []
  },
  {
   "cell_type": "code",
   "execution_count": null,
   "id": "301cbb3e",
   "metadata": {},
   "outputs": [],
   "source": []
  },
  {
   "cell_type": "code",
   "execution_count": null,
   "id": "29ab4f1f",
   "metadata": {},
   "outputs": [],
   "source": []
  },
  {
   "cell_type": "code",
   "execution_count": null,
   "id": "5e936c61",
   "metadata": {},
   "outputs": [],
   "source": []
  },
  {
   "cell_type": "code",
   "execution_count": null,
   "id": "145d297c",
   "metadata": {},
   "outputs": [],
   "source": []
  }
 ],
 "metadata": {
  "kernelspec": {
   "display_name": "Python 3.7.10 64-bit ('dev': conda)",
   "language": "python",
   "name": "python3710jvsc74a57bd01e9977374809989f508f091187a15f7a2c3d1bf11f900935711f99c30ec7fe3a"
  },
  "language_info": {
   "codemirror_mode": {
    "name": "ipython",
    "version": 3
   },
   "file_extension": ".py",
   "mimetype": "text/x-python",
   "name": "python",
   "nbconvert_exporter": "python",
   "pygments_lexer": "ipython3",
   "version": "3.7.10"
  }
 },
 "nbformat": 4,
 "nbformat_minor": 5
}
