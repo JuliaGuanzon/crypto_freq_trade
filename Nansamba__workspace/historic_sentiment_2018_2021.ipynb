{
 "cells": [
  {
   "cell_type": "markdown",
   "id": "2be55e4a",
   "metadata": {},
   "source": [
    "## Concatenated dataframes due to api pull limits"
   ]
  },
  {
   "cell_type": "code",
   "execution_count": 1,
   "id": "a4b2ccd0",
   "metadata": {},
   "outputs": [],
   "source": [
    "import pandas as pd\n",
    "from pathlib import Path"
   ]
  },
  {
   "cell_type": "code",
   "execution_count": 2,
   "id": "b9a5347f",
   "metadata": {},
   "outputs": [],
   "source": [
    "pd.set_option('display.max_columns', None)"
   ]
  },
  {
   "cell_type": "code",
   "execution_count": 3,
   "id": "49d00beb",
   "metadata": {
    "scrolled": true
   },
   "outputs": [],
   "source": [
    "\n",
    "df1 = pd.read_csv(Path(\"final_df_2018_2020.csv\"))\n",
    "df2 = pd.read_csv(Path(\"final_df_2020_2021.csv\"))\n",
    "historic_sentiment = pd.concat([df1, df2], axis=0)"
   ]
  },
  {
   "cell_type": "code",
   "execution_count": 4,
   "id": "7f642304",
   "metadata": {},
   "outputs": [],
   "source": [
    "historic_sentiment = historic_sentiment.drop(historic_sentiment.columns[0:2], axis=1)\n"
   ]
  },
  {
   "cell_type": "code",
   "execution_count": 5,
   "id": "e739f450",
   "metadata": {},
   "outputs": [],
   "source": [
    "historic_sentiment.set_index('time', inplace=True)\n",
    "\n"
   ]
  },
  {
   "cell_type": "code",
   "execution_count": 6,
   "id": "2456181d",
   "metadata": {},
   "outputs": [
    {
     "data": {
      "text/html": [
       "<div>\n",
       "<style scoped>\n",
       "    .dataframe tbody tr th:only-of-type {\n",
       "        vertical-align: middle;\n",
       "    }\n",
       "\n",
       "    .dataframe tbody tr th {\n",
       "        vertical-align: top;\n",
       "    }\n",
       "\n",
       "    .dataframe thead th {\n",
       "        text-align: right;\n",
       "    }\n",
       "</style>\n",
       "<table border=\"1\" class=\"dataframe\">\n",
       "  <thead>\n",
       "    <tr style=\"text-align: right;\">\n",
       "      <th></th>\n",
       "      <th>reddit_posts</th>\n",
       "      <th>tweets</th>\n",
       "      <th>price_score</th>\n",
       "      <th>correlation_rank</th>\n",
       "      <th>galaxy_score</th>\n",
       "    </tr>\n",
       "    <tr>\n",
       "      <th>time</th>\n",
       "      <th></th>\n",
       "      <th></th>\n",
       "      <th></th>\n",
       "      <th></th>\n",
       "      <th></th>\n",
       "    </tr>\n",
       "  </thead>\n",
       "  <tbody>\n",
       "    <tr>\n",
       "      <th>2018-12-16</th>\n",
       "      <td>151.0</td>\n",
       "      <td>42285.0</td>\n",
       "      <td>2.9</td>\n",
       "      <td>5.0</td>\n",
       "      <td>76.0</td>\n",
       "    </tr>\n",
       "    <tr>\n",
       "      <th>2018-12-17</th>\n",
       "      <td>197.0</td>\n",
       "      <td>58024.0</td>\n",
       "      <td>2.6</td>\n",
       "      <td>5.0</td>\n",
       "      <td>75.0</td>\n",
       "    </tr>\n",
       "    <tr>\n",
       "      <th>2018-12-18</th>\n",
       "      <td>184.0</td>\n",
       "      <td>55432.0</td>\n",
       "      <td>2.4</td>\n",
       "      <td>5.0</td>\n",
       "      <td>74.0</td>\n",
       "    </tr>\n",
       "    <tr>\n",
       "      <th>2018-12-19</th>\n",
       "      <td>187.0</td>\n",
       "      <td>57781.0</td>\n",
       "      <td>2.4</td>\n",
       "      <td>5.0</td>\n",
       "      <td>74.0</td>\n",
       "    </tr>\n",
       "    <tr>\n",
       "      <th>2018-12-20</th>\n",
       "      <td>187.0</td>\n",
       "      <td>56591.0</td>\n",
       "      <td>1.9</td>\n",
       "      <td>4.0</td>\n",
       "      <td>66.0</td>\n",
       "    </tr>\n",
       "    <tr>\n",
       "      <th>...</th>\n",
       "      <td>...</td>\n",
       "      <td>...</td>\n",
       "      <td>...</td>\n",
       "      <td>...</td>\n",
       "      <td>...</td>\n",
       "    </tr>\n",
       "    <tr>\n",
       "      <th>2021-10-06</th>\n",
       "      <td>2355.0</td>\n",
       "      <td>444502.0</td>\n",
       "      <td>3.1</td>\n",
       "      <td>4.0</td>\n",
       "      <td>73.5</td>\n",
       "    </tr>\n",
       "    <tr>\n",
       "      <th>2021-10-07</th>\n",
       "      <td>1588.0</td>\n",
       "      <td>364233.0</td>\n",
       "      <td>2.9</td>\n",
       "      <td>4.4</td>\n",
       "      <td>74.0</td>\n",
       "    </tr>\n",
       "    <tr>\n",
       "      <th>2021-10-08</th>\n",
       "      <td>1653.0</td>\n",
       "      <td>307639.0</td>\n",
       "      <td>2.8</td>\n",
       "      <td>2.4</td>\n",
       "      <td>59.5</td>\n",
       "    </tr>\n",
       "    <tr>\n",
       "      <th>2021-10-09</th>\n",
       "      <td>1327.0</td>\n",
       "      <td>274641.0</td>\n",
       "      <td>2.9</td>\n",
       "      <td>2.9</td>\n",
       "      <td>62.0</td>\n",
       "    </tr>\n",
       "    <tr>\n",
       "      <th>2021-10-10</th>\n",
       "      <td>1524.0</td>\n",
       "      <td>271860.0</td>\n",
       "      <td>3.0</td>\n",
       "      <td>3.3</td>\n",
       "      <td>64.5</td>\n",
       "    </tr>\n",
       "  </tbody>\n",
       "</table>\n",
       "<p>1030 rows × 5 columns</p>\n",
       "</div>"
      ],
      "text/plain": [
       "            reddit_posts    tweets  price_score  correlation_rank  \\\n",
       "time                                                                \n",
       "2018-12-16         151.0   42285.0          2.9               5.0   \n",
       "2018-12-17         197.0   58024.0          2.6               5.0   \n",
       "2018-12-18         184.0   55432.0          2.4               5.0   \n",
       "2018-12-19         187.0   57781.0          2.4               5.0   \n",
       "2018-12-20         187.0   56591.0          1.9               4.0   \n",
       "...                  ...       ...          ...               ...   \n",
       "2021-10-06        2355.0  444502.0          3.1               4.0   \n",
       "2021-10-07        1588.0  364233.0          2.9               4.4   \n",
       "2021-10-08        1653.0  307639.0          2.8               2.4   \n",
       "2021-10-09        1327.0  274641.0          2.9               2.9   \n",
       "2021-10-10        1524.0  271860.0          3.0               3.3   \n",
       "\n",
       "            galaxy_score  \n",
       "time                      \n",
       "2018-12-16          76.0  \n",
       "2018-12-17          75.0  \n",
       "2018-12-18          74.0  \n",
       "2018-12-19          74.0  \n",
       "2018-12-20          66.0  \n",
       "...                  ...  \n",
       "2021-10-06          73.5  \n",
       "2021-10-07          74.0  \n",
       "2021-10-08          59.5  \n",
       "2021-10-09          62.0  \n",
       "2021-10-10          64.5  \n",
       "\n",
       "[1030 rows x 5 columns]"
      ]
     },
     "execution_count": 6,
     "metadata": {},
     "output_type": "execute_result"
    }
   ],
   "source": [
    "historic_sentiment = historic_sentiment[[\"reddit_posts\",\"tweets\",\"price_score\",\"correlation_rank\",\"galaxy_score\"]]\n",
    "historic_sentiment"
   ]
  },
  {
   "cell_type": "code",
   "execution_count": null,
   "id": "331bcf27",
   "metadata": {},
   "outputs": [],
   "source": []
  }
 ],
 "metadata": {
  "kernelspec": {
   "display_name": "Python 3.7.10 64-bit ('dev': conda)",
   "language": "python",
   "name": "python3710jvsc74a57bd01e9977374809989f508f091187a15f7a2c3d1bf11f900935711f99c30ec7fe3a"
  },
  "language_info": {
   "codemirror_mode": {
    "name": "ipython",
    "version": 3
   },
   "file_extension": ".py",
   "mimetype": "text/x-python",
   "name": "python",
   "nbconvert_exporter": "python",
   "pygments_lexer": "ipython3",
   "version": "3.7.10"
  }
 },
 "nbformat": 4,
 "nbformat_minor": 5
}
